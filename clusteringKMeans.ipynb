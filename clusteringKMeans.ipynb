{
 "cells": [
  {
   "cell_type": "code",
   "execution_count": 2,
   "metadata": {},
   "outputs": [],
   "source": [
    "# -*- coding: utf-8 -*-\n",
    "# Ce code a Ã©tÃ© produit par le Pr Ricco R. de l'univ. de Lyon 2\n",
    "#UtilisÃ© et modifiÃ© par Kenza TAAMMA et Bertille TEMPLE (crÃ©ation des projections 2D et 3D, de la moyenne des attributs/label ainsi que de la classification d'un nouvel utilisateur)"
   ]
  },
  {
   "cell_type": "markdown",
   "metadata": {},
   "source": [
    "Modification du dossier par defaut"
   ]
  },
  {
   "cell_type": "code",
   "execution_count": 3,
   "metadata": {},
   "outputs": [],
   "source": [
    "import os\n",
    "os.chdir(\"./\")#votre dossier"
   ]
  },
  {
   "cell_type": "markdown",
   "metadata": {},
   "source": [
    "Importation des donnees"
   ]
  },
  {
   "cell_type": "code",
   "execution_count": 4,
   "metadata": {},
   "outputs": [],
   "source": [
    "import pandas"
   ]
  },
  {
   "cell_type": "code",
   "execution_count": 5,
   "metadata": {},
   "outputs": [],
   "source": [
    "import sklearn\n",
    "from sklearn.preprocessing import StandardScaler\n",
    "from sklearn.decomposition import PCA\n",
    "import matplotlib.pyplot as plt\n",
    "import numpy as np\n",
    "from sklearn import cluster"
   ]
  },
  {
   "cell_type": "code",
   "execution_count": 6,
   "metadata": {},
   "outputs": [],
   "source": [
    "import pprint"
   ]
  },
  {
   "cell_type": "code",
   "execution_count": 7,
   "metadata": {},
   "outputs": [],
   "source": [
    "import os, sys, types\n",
    "if \"import_ipynb\" not in sys.modules:\n",
    "    !pip install import-ipynb\n",
    "import import_ipynb\n",
    "sys.path.append(os.getcwd()+\"\\service\")\n",
    "from service import rethinkDBservice as rethinkDBservice"
   ]
  },
  {
   "cell_type": "code",
   "execution_count": 8,
   "metadata": {},
   "outputs": [
    {
     "ename": "KeyboardInterrupt",
     "evalue": "",
     "output_type": "error",
     "traceback": [
      "\u001b[1;31m---------------------------------------------------------------------------\u001b[0m",
      "\u001b[1;31mKeyboardInterrupt\u001b[0m                         Traceback (most recent call last)",
      "\u001b[1;32m<ipython-input-8-e89bd70ded71>\u001b[0m in \u001b[0;36m<module>\u001b[1;34m\u001b[0m\n\u001b[1;32m----> 1\u001b[1;33m \u001b[0musers\u001b[0m \u001b[1;33m=\u001b[0m \u001b[0mlist\u001b[0m\u001b[1;33m(\u001b[0m\u001b[0mrethinkDBservice\u001b[0m\u001b[1;33m.\u001b[0m\u001b[0mgetUsersCursors\u001b[0m\u001b[1;33m(\u001b[0m\u001b[1;33m)\u001b[0m\u001b[1;33m)\u001b[0m\u001b[1;33m\u001b[0m\u001b[1;33m\u001b[0m\u001b[0m\n\u001b[0m\u001b[0;32m      2\u001b[0m \u001b[0mtable\u001b[0m \u001b[1;33m=\u001b[0m \u001b[1;33m[\u001b[0m\u001b[1;33m]\u001b[0m\u001b[1;33m\u001b[0m\u001b[1;33m\u001b[0m\u001b[0m\n\u001b[0;32m      3\u001b[0m \u001b[1;31m# cmp = 0\u001b[0m\u001b[1;33m\u001b[0m\u001b[1;33m\u001b[0m\u001b[1;33m\u001b[0m\u001b[0m\n",
      "\u001b[1;32m~\\anaconda3\\lib\\site-packages\\rethinkdb\\net.py\u001b[0m in \u001b[0;36m__next__\u001b[1;34m(self)\u001b[0m\n\u001b[0;32m    321\u001b[0m \u001b[1;33m\u001b[0m\u001b[0m\n\u001b[0;32m    322\u001b[0m     \u001b[1;32mdef\u001b[0m \u001b[0m__next__\u001b[0m\u001b[1;33m(\u001b[0m\u001b[0mself\u001b[0m\u001b[1;33m)\u001b[0m\u001b[1;33m:\u001b[0m\u001b[1;33m\u001b[0m\u001b[1;33m\u001b[0m\u001b[0m\n\u001b[1;32m--> 323\u001b[1;33m         \u001b[1;32mreturn\u001b[0m \u001b[0mself\u001b[0m\u001b[1;33m.\u001b[0m\u001b[0m_get_next\u001b[0m\u001b[1;33m(\u001b[0m\u001b[1;32mNone\u001b[0m\u001b[1;33m)\u001b[0m\u001b[1;33m\u001b[0m\u001b[1;33m\u001b[0m\u001b[0m\n\u001b[0m\u001b[0;32m    324\u001b[0m \u001b[1;33m\u001b[0m\u001b[0m\n\u001b[0;32m    325\u001b[0m     \u001b[1;32mdef\u001b[0m \u001b[0m_empty_error\u001b[0m\u001b[1;33m(\u001b[0m\u001b[0mself\u001b[0m\u001b[1;33m)\u001b[0m\u001b[1;33m:\u001b[0m\u001b[1;33m\u001b[0m\u001b[1;33m\u001b[0m\u001b[0m\n",
      "\u001b[1;32m~\\anaconda3\\lib\\site-packages\\rethinkdb\\net.py\u001b[0m in \u001b[0;36m_get_next\u001b[1;34m(self, timeout)\u001b[0m\n\u001b[0;32m    332\u001b[0m             \u001b[1;32mif\u001b[0m \u001b[0mself\u001b[0m\u001b[1;33m.\u001b[0m\u001b[0merror\u001b[0m \u001b[1;32mis\u001b[0m \u001b[1;32mnot\u001b[0m \u001b[1;32mNone\u001b[0m\u001b[1;33m:\u001b[0m\u001b[1;33m\u001b[0m\u001b[1;33m\u001b[0m\u001b[0m\n\u001b[0;32m    333\u001b[0m                 \u001b[1;32mraise\u001b[0m \u001b[0mself\u001b[0m\u001b[1;33m.\u001b[0m\u001b[0merror\u001b[0m\u001b[1;33m\u001b[0m\u001b[1;33m\u001b[0m\u001b[0m\n\u001b[1;32m--> 334\u001b[1;33m             \u001b[0mself\u001b[0m\u001b[1;33m.\u001b[0m\u001b[0mconn\u001b[0m\u001b[1;33m.\u001b[0m\u001b[0m_read_response\u001b[0m\u001b[1;33m(\u001b[0m\u001b[0mself\u001b[0m\u001b[1;33m.\u001b[0m\u001b[0mquery\u001b[0m\u001b[1;33m,\u001b[0m \u001b[0mdeadline\u001b[0m\u001b[1;33m)\u001b[0m\u001b[1;33m\u001b[0m\u001b[1;33m\u001b[0m\u001b[0m\n\u001b[0m\u001b[0;32m    335\u001b[0m         \u001b[1;32mreturn\u001b[0m \u001b[0mself\u001b[0m\u001b[1;33m.\u001b[0m\u001b[0mitems\u001b[0m\u001b[1;33m.\u001b[0m\u001b[0mpopleft\u001b[0m\u001b[1;33m(\u001b[0m\u001b[1;33m)\u001b[0m\u001b[1;33m\u001b[0m\u001b[1;33m\u001b[0m\u001b[0m\n\u001b[0;32m    336\u001b[0m \u001b[1;33m\u001b[0m\u001b[0m\n",
      "\u001b[1;32m~\\anaconda3\\lib\\site-packages\\rethinkdb\\net.py\u001b[0m in \u001b[0;36m_read_response\u001b[1;34m(self, query, deadline)\u001b[0m\n\u001b[0;32m    596\u001b[0m                 \u001b[1;31m# then create a new connection for the user's convenience.\u001b[0m\u001b[1;33m\u001b[0m\u001b[1;33m\u001b[0m\u001b[1;33m\u001b[0m\u001b[0m\n\u001b[0;32m    597\u001b[0m                 \u001b[0mself\u001b[0m\u001b[1;33m.\u001b[0m\u001b[0m_parent\u001b[0m\u001b[1;33m.\u001b[0m\u001b[0mreconnect\u001b[0m\u001b[1;33m(\u001b[0m\u001b[0mnoreply_wait\u001b[0m\u001b[1;33m=\u001b[0m\u001b[1;32mFalse\u001b[0m\u001b[1;33m)\u001b[0m\u001b[1;33m\u001b[0m\u001b[1;33m\u001b[0m\u001b[0m\n\u001b[1;32m--> 598\u001b[1;33m                 \u001b[1;32mraise\u001b[0m \u001b[0mex\u001b[0m\u001b[1;33m\u001b[0m\u001b[1;33m\u001b[0m\u001b[0m\n\u001b[0m\u001b[0;32m    599\u001b[0m \u001b[1;33m\u001b[0m\u001b[0m\n\u001b[0;32m    600\u001b[0m             \u001b[0mres\u001b[0m \u001b[1;33m=\u001b[0m \u001b[1;32mNone\u001b[0m\u001b[1;33m\u001b[0m\u001b[1;33m\u001b[0m\u001b[0m\n",
      "\u001b[1;32m~\\anaconda3\\lib\\site-packages\\rethinkdb\\net.py\u001b[0m in \u001b[0;36m_read_response\u001b[1;34m(self, query, deadline)\u001b[0m\n\u001b[0;32m    590\u001b[0m                     \u001b[0mself\u001b[0m\u001b[1;33m.\u001b[0m\u001b[0m_header_in_progress\u001b[0m \u001b[1;33m=\u001b[0m \u001b[0mself\u001b[0m\u001b[1;33m.\u001b[0m\u001b[0m_socket\u001b[0m\u001b[1;33m.\u001b[0m\u001b[0mrecvall\u001b[0m\u001b[1;33m(\u001b[0m\u001b[1;36m12\u001b[0m\u001b[1;33m,\u001b[0m \u001b[0mdeadline\u001b[0m\u001b[1;33m)\u001b[0m\u001b[1;33m\u001b[0m\u001b[1;33m\u001b[0m\u001b[0m\n\u001b[0;32m    591\u001b[0m                 \u001b[1;33m(\u001b[0m\u001b[0mres_token\u001b[0m\u001b[1;33m,\u001b[0m \u001b[0mres_len\u001b[0m\u001b[1;33m,\u001b[0m\u001b[1;33m)\u001b[0m \u001b[1;33m=\u001b[0m \u001b[0mstruct\u001b[0m\u001b[1;33m.\u001b[0m\u001b[0munpack\u001b[0m\u001b[1;33m(\u001b[0m\u001b[1;34m\"<qL\"\u001b[0m\u001b[1;33m,\u001b[0m \u001b[0mself\u001b[0m\u001b[1;33m.\u001b[0m\u001b[0m_header_in_progress\u001b[0m\u001b[1;33m)\u001b[0m\u001b[1;33m\u001b[0m\u001b[1;33m\u001b[0m\u001b[0m\n\u001b[1;32m--> 592\u001b[1;33m                 \u001b[0mres_buf\u001b[0m \u001b[1;33m=\u001b[0m \u001b[0mself\u001b[0m\u001b[1;33m.\u001b[0m\u001b[0m_socket\u001b[0m\u001b[1;33m.\u001b[0m\u001b[0mrecvall\u001b[0m\u001b[1;33m(\u001b[0m\u001b[0mres_len\u001b[0m\u001b[1;33m,\u001b[0m \u001b[0mdeadline\u001b[0m\u001b[1;33m)\u001b[0m\u001b[1;33m\u001b[0m\u001b[1;33m\u001b[0m\u001b[0m\n\u001b[0m\u001b[0;32m    593\u001b[0m                 \u001b[0mself\u001b[0m\u001b[1;33m.\u001b[0m\u001b[0m_header_in_progress\u001b[0m \u001b[1;33m=\u001b[0m \u001b[1;32mNone\u001b[0m\u001b[1;33m\u001b[0m\u001b[1;33m\u001b[0m\u001b[0m\n\u001b[0;32m    594\u001b[0m             \u001b[1;32mexcept\u001b[0m \u001b[0mKeyboardInterrupt\u001b[0m \u001b[1;32mas\u001b[0m \u001b[0mex\u001b[0m\u001b[1;33m:\u001b[0m\u001b[1;33m\u001b[0m\u001b[1;33m\u001b[0m\u001b[0m\n",
      "\u001b[1;32m~\\anaconda3\\lib\\site-packages\\rethinkdb\\net.py\u001b[0m in \u001b[0;36mrecvall\u001b[1;34m(self, length, deadline)\u001b[0m\n\u001b[0;32m    462\u001b[0m             \u001b[1;32mwhile\u001b[0m \u001b[1;32mTrue\u001b[0m\u001b[1;33m:\u001b[0m\u001b[1;33m\u001b[0m\u001b[1;33m\u001b[0m\u001b[0m\n\u001b[0;32m    463\u001b[0m                 \u001b[1;32mtry\u001b[0m\u001b[1;33m:\u001b[0m\u001b[1;33m\u001b[0m\u001b[1;33m\u001b[0m\u001b[0m\n\u001b[1;32m--> 464\u001b[1;33m                     \u001b[0mchunk\u001b[0m \u001b[1;33m=\u001b[0m \u001b[0mself\u001b[0m\u001b[1;33m.\u001b[0m\u001b[0m_socket\u001b[0m\u001b[1;33m.\u001b[0m\u001b[0mrecv\u001b[0m\u001b[1;33m(\u001b[0m\u001b[0mlength\u001b[0m \u001b[1;33m-\u001b[0m \u001b[0mlen\u001b[0m\u001b[1;33m(\u001b[0m\u001b[0mres\u001b[0m\u001b[1;33m)\u001b[0m\u001b[1;33m)\u001b[0m\u001b[1;33m\u001b[0m\u001b[1;33m\u001b[0m\u001b[0m\n\u001b[0m\u001b[0;32m    465\u001b[0m                     \u001b[0mself\u001b[0m\u001b[1;33m.\u001b[0m\u001b[0m_socket\u001b[0m\u001b[1;33m.\u001b[0m\u001b[0msettimeout\u001b[0m\u001b[1;33m(\u001b[0m\u001b[1;32mNone\u001b[0m\u001b[1;33m)\u001b[0m\u001b[1;33m\u001b[0m\u001b[1;33m\u001b[0m\u001b[0m\n\u001b[0;32m    466\u001b[0m                     \u001b[1;32mbreak\u001b[0m\u001b[1;33m\u001b[0m\u001b[1;33m\u001b[0m\u001b[0m\n",
      "\u001b[1;31mKeyboardInterrupt\u001b[0m: "
     ]
    }
   ],
   "source": [
    "users = list(rethinkDBservice.getUsersCursors())\n",
    "table = []\n",
    "# cmp = 0"
   ]
  },
  {
   "cell_type": "code",
   "execution_count": null,
   "metadata": {},
   "outputs": [],
   "source": [
    "for user in users:\n",
    "    table.append([\n",
    "        user[\"accountAge(days)\"],\n",
    "        user[\"agressivite\"],\n",
    "        user[\"avg_hashtag\"],\n",
    "        user[\"avg_url\"],\n",
    "        user[\"mediumLength\"],\n",
    "        user[\"rationFollowersFriends\"],\n",
    "        user[\"tweet_per_day\"],\n",
    "        user[\"verified\"],\n",
    "        user[\"visibility\"]\n",
    "    ])"
   ]
  },
  {
   "cell_type": "code",
   "execution_count": null,
   "metadata": {},
   "outputs": [],
   "source": [
    "matriceDonnees = np.array(table)"
   ]
  },
  {
   "cell_type": "code",
   "execution_count": null,
   "metadata": {},
   "outputs": [],
   "source": [
    "dataFrameDonnees = pandas.DataFrame(data=matriceDonnees, columns=[\"accountAge\", \"agressivite\", \"avg_hashtag\", \"avg_url\", \"mediumLength\", \"rationFollowersFriends\", \"tweet_per_day\", \"verified\", \"visibility\"])"
   ]
  },
  {
   "cell_type": "markdown",
   "metadata": {},
   "source": [
    "Dimension des donnees"
   ]
  },
  {
   "cell_type": "code",
   "execution_count": null,
   "metadata": {},
   "outputs": [],
   "source": [
    "print(dataFrameDonnees.shape)"
   ]
  },
  {
   "cell_type": "markdown",
   "metadata": {},
   "source": [
    " premiÃ¨res lignes des donnÃ©es"
   ]
  },
  {
   "cell_type": "code",
   "execution_count": null,
   "metadata": {},
   "outputs": [],
   "source": [
    "print(dataFrameDonnees.iloc[0:6,:])"
   ]
  },
  {
   "cell_type": "markdown",
   "metadata": {},
   "source": [
    "Statistiques descriptives"
   ]
  },
  {
   "cell_type": "code",
   "execution_count": null,
   "metadata": {},
   "outputs": [],
   "source": [
    "print(dataFrameDonnees.describe())"
   ]
  },
  {
   "cell_type": "markdown",
   "metadata": {},
   "source": [
    "#graphique avec croisement deux Ã  deux<br>\n",
    "from pandas.plotting import scatter_matrix<br>\n",
    "pandas.plotting.scatter_matrix(dataFrameDonnees,figsize=(11,11)) "
   ]
  },
  {
   "cell_type": "markdown",
   "metadata": {},
   "source": [
    "Centrage reduction des donnees"
   ]
  },
  {
   "cell_type": "code",
   "execution_count": null,
   "metadata": {},
   "outputs": [],
   "source": [
    "from sklearn import preprocessing\n",
    "dataFrameDonnees_cr = preprocessing.scale(dataFrameDonnees)"
   ]
  },
  {
   "cell_type": "markdown",
   "metadata": {},
   "source": [
    "Librairie pour evaluation des partitions"
   ]
  },
  {
   "cell_type": "code",
   "execution_count": null,
   "metadata": {},
   "outputs": [],
   "source": [
    "from sklearn import metrics"
   ]
  },
  {
   "cell_type": "markdown",
   "metadata": {},
   "source": [
    "Utilisation de la metrique \"silhouette\"<br>\n",
    "Faire varier le nombre de clusters de 2 Ã  9<br>\n",
    "creation d'un index alÃ©atoire de 10 000 user pour l'affichage sinon trop long"
   ]
  },
  {
   "cell_type": "code",
   "execution_count": null,
   "metadata": {},
   "outputs": [],
   "source": [
    "idx = np.random.randint(len(matriceDonnees), size=10000)\n",
    "dataFrameDonnees_affichage = dataFrameDonnees_cr[idx]\n",
    "res = np.arange(9,dtype=\"double\")\n",
    "for k in np.arange(9):\n",
    "    km = cluster.KMeans(n_clusters=k+2)\n",
    "    km.fit(dataFrameDonnees_affichage)\n",
    "    res[k] = metrics.silhouette_score(dataFrameDonnees_affichage,km.labels_)"
   ]
  },
  {
   "cell_type": "markdown",
   "metadata": {},
   "source": [
    "Graphique"
   ]
  },
  {
   "cell_type": "code",
   "execution_count": null,
   "metadata": {},
   "outputs": [],
   "source": [
    "import matplotlib.pyplot as plt\n",
    "plt.title(\"Silhouette\")\n",
    "plt.xlabel(\"# of clusters\")\n",
    "plt.plot(np.arange(2,11,1),res)\n",
    "plt.show()"
   ]
  },
  {
   "cell_type": "markdown",
   "metadata": {},
   "source": [
    "=============== Fonction deroulant l'etude du clustering KMeans sur notre dataset =============== #<br>\n",
    "=============== En fonction du nombre de cluster passé en argument =============== #"
   ]
  },
  {
   "cell_type": "code",
   "execution_count": null,
   "metadata": {},
   "outputs": [],
   "source": [
    "def etudeClusteringKmeans(nb_cluster):\n",
    "    #k-means sur les donnÃ©es centrÃ©es et rÃ©duites\n",
    "    kmeans = cluster.KMeans(n_clusters=nb_cluster)\n",
    "    kmeans.fit(dataFrameDonnees_cr)\n",
    "    # print(kmeans.inertia_)\n",
    "\n",
    "    #index triÃ©s des groupes\n",
    "    idk = np.argsort(kmeans.labels_)\n",
    "\n",
    "    #affichage des observations et leurs groupes\n",
    "    print(pandas.DataFrame(dataFrameDonnees.index[idk],kmeans.labels_[idk]))\n",
    "\n",
    "    #distances aux centres de classes des observations\n",
    "    print(kmeans.transform(dataFrameDonnees_cr))\n",
    "\n",
    "    #moyenne par variable\n",
    "    m = dataFrameDonnees.mean()\n",
    "\n",
    "    #data.frame conditionnellement aux groupes\n",
    "    gb = dataFrameDonnees.groupby(kmeans.labels_)\n",
    "\n",
    "    #ACP pour affichage\n",
    "    from sklearn.decomposition import PCA\n",
    "    acp = PCA(n_components=2).fit_transform(dataFrameDonnees_cr)\n",
    "    # from AcpTweet import CP2\n",
    "    # acp = CP2\n",
    "    # print(\"#### ACP #####\")\n",
    "    # print (acp)\n",
    "\n",
    "    # ------- Projection 2D ------- #\n",
    "\n",
    "    # discrÃ©tise l'Ã©chelle de couleur viridis pour l'affichage\n",
    "    cmap = plt.get_cmap(\"viridis\", nb_cluster)\n",
    "\n",
    "    # crÃ©ation d'un index alÃ©atoire de 10 000 user pour l'affichage\n",
    "    idx = np.random.randint(len(matriceDonnees), size=10000)\n",
    "\n",
    "    # crÃ©ation du dataframe avec les CP et les labels correspondants par concatÃ©nation\n",
    "    acp_df = pandas.DataFrame(data=acp[idx,:2], columns=[\"CP1\", \"CP2\"])\n",
    "    labels = pandas.DataFrame(data=kmeans.labels_[idx], columns=[\"label\"])\n",
    "    labeled_acp = pandas.concat([acp_df, labels], axis=1)\n",
    "    print(\"----------- labeled acp -----------\")\n",
    "    print(labeled_acp)\n",
    "\n",
    "    # crÃ©ation des groupes pour l'affichage\n",
    "    clusters = labeled_acp.groupby(\"label\")\n",
    "    # projection dans le plan factoriel\n",
    "    # avec un code couleur selon le groupe\n",
    "    # plt.scatter(acp[:,0],acp[:,1], c=kmeans.labels_, cmap='viridis', label = name) #sans le groupby et l'affichage des legendes\n",
    "    for name, group in clusters :\n",
    "        plt.scatter(group[\"CP1\"],group[\"CP2\"], color=cmap(int(name)), label = name) \n",
    "    plt.xlabel(\"Composante Principale 1\")\n",
    "    plt.ylabel(\"Composante Principale 2\")\n",
    "    plt.title(\"Clustering KMeans \"+ str(nb_cluster) + \" clusters - projection 2D\")\n",
    "    plt.legend() \n",
    "\n",
    "    # ------- Projection 3D ------- #\n",
    "\n",
    "    # ACP pour affichage 3D\n",
    "    acp = PCA(n_components=3).fit_transform(dataFrameDonnees_cr)\n",
    "    # from AcpTweet import CP3\n",
    "    # acp = CP3\n",
    "    # crÃ©ation du dataframe concatÃ©nÃ© aux labels\n",
    "    acp_df = pandas.DataFrame(data=acp[idx,:3], columns=[\"CP1\", \"CP2\", \"CP3\"])\n",
    "    labels = pandas.DataFrame(data=kmeans.labels_[idx], columns=[\"label\"])\n",
    "    labeled_acp = pandas.concat([acp_df, labels], axis=1)\n",
    "    # crÃ©ation des groupes pour l'affichage\n",
    "    clusters = labeled_acp.groupby(\"label\")\n",
    "\n",
    "    # projection 3D\n",
    "    fig = plt.figure(figsize=(20,10))\n",
    "    ax = fig.add_subplot(111, projection='3d')\n",
    "    # ax.scatter(acp[:,0],acp[:,1],acp[:,2], c=kmeans.labels_, cmap='viridis', edgecolor='k', s=40, alpha = 0.5) #sans le groupby et l'affichage des legendes\n",
    "    for name, group in clusters :\n",
    "        ax.scatter(group[\"CP1\"],group[\"CP2\"], group[\"CP3\"], color=cmap(int(name)), edgecolor='k', s=40, alpha = 0.5, label = name)\n",
    "    ax.view_init(60,35)\n",
    "    ax.set_title(\"Clustering KMeans \"+ str(nb_cluster) + \" clusters - projection 3D\")\n",
    "    ax.set_xlabel(\"Composante principale 1\")\n",
    "    ax.set_ylabel(\"Composante principale 2\")\n",
    "    ax.set_zlabel(\"Composante principale 3\")\n",
    "    ax.dist = 10\n",
    "    ax.scatter(kmeans.cluster_centers_[:,0], kmeans.cluster_centers_[:,1], kmeans.cluster_centers_[:,2], c='black', s=200, alpha=0.5, label = 'Centroid')\n",
    "    plt.legend() \n",
    "    plt.autoscale(enable=True, axis='x', tight=True)    \n",
    "\n",
    "    # autre projection 3D - rotation pour une meilleure visualisation\n",
    "    fig = plt.figure(figsize=(20,10))\n",
    "    ax = fig.add_subplot(111, projection='3d')\n",
    "    # ax.scatter(acp[:,0],acp[:,1],acp[:,2], c=kmeans.labels_, cmap='viridis', edgecolor='k', s=40, alpha = 0.5) #sans le groupby et l'affichage des legendes\n",
    "    for name, group in clusters :\n",
    "        ax.scatter(group[\"CP1\"],group[\"CP2\"], group[\"CP3\"], color=cmap(int(name)), edgecolor='k', s=40, alpha = 0.5, label = name)\n",
    "    ax.set_title(\"Clustering KMeans \"+ str(nb_cluster) + \" clusters - projection 3D\")\n",
    "    ax.set_xlabel(\"Composante principale 1\")\n",
    "    ax.set_ylabel(\"Composante principale 2\")\n",
    "    ax.set_zlabel(\"Composante principale 3\")\n",
    "    ax.dist = 10\n",
    "    ax.scatter(kmeans.cluster_centers_[:,0], kmeans.cluster_centers_[:,1], kmeans.cluster_centers_[:,2], c='black', s=200, alpha=0.5, label = 'Centroid')\n",
    "    plt.legend() \n",
    "    plt.autoscale(enable=True, axis='x', tight=True)    \n",
    "\n",
    "    # affichage des 3 graphiques (2D et 3D)\n",
    "    plt.show()\n",
    "    pred = kmeans.predict(dataFrameDonnees_cr)\n",
    "    from sklearn import metrics\n",
    "    score = metrics.rand_score(pred, kmeans.labels_)\n",
    "    print(\"---------------- Performance prÃ©diction ----------------\")\n",
    "    print(score)\n",
    "    print(\"---------------- Etude classes ----------------\\n Voir fichier Etude_classes.txt\")\n",
    "    # 30 users pour l'affichage\n",
    "    dataFrameDonnees_affichage = dataFrameDonnees.loc[0:30,:]\n",
    "    labels = pandas.DataFrame(data=kmeans.labels_, columns=[\"label\"])\n",
    "    labeled_dataFrame = pandas.concat([dataFrameDonnees_affichage, labels[0:31]], axis=1)\n",
    "    # pour le calcul des moyennes des attributs par label\n",
    "    labeled_dataFrame_groupby = pandas.concat([dataFrameDonnees_affichage, labels], axis=1)\n",
    "    labeled_dataFrame_groupby = labeled_dataFrame_groupby.groupby(['label']).mean()\n",
    "    \n",
    "    # pour afficher toutes les colonnes\n",
    "    pandas.set_option('display.max_columns', None)\n",
    "    \n",
    "    print(labeled_dataFrame, file = sourceFile)\n",
    "    print('Moyennes : ', file = sourceFile)\n",
    "    print(labeled_dataFrame_groupby, file = sourceFile)\n",
    "    # affiche en plus dans la console\n",
    "    print('Moyennes : ')\n",
    "    print(labeled_dataFrame_groupby, file = sourceFile)\n",
    "    pandas.reset_option(\"max_columns\")"
   ]
  },
  {
   "cell_type": "markdown",
   "metadata": {},
   "source": [
    "=============== Etude clustering KMeans sur notre dataset =============== #"
   ]
  },
  {
   "cell_type": "code",
   "execution_count": 1,
   "metadata": {},
   "outputs": [
    {
     "name": "stdout",
     "output_type": "stream",
     "text": [
      " ----------- 4 clusters -----------\n"
     ]
    },
    {
     "ename": "NameError",
     "evalue": "name 'etudeClusteringKmeans' is not defined",
     "output_type": "error",
     "traceback": [
      "\u001b[0;31m---------------------------------------------------------------------------\u001b[0m",
      "\u001b[0;31mNameError\u001b[0m                                 Traceback (most recent call last)",
      "\u001b[0;32m<ipython-input-1-e87c9649ed78>\u001b[0m in \u001b[0;36m<module>\u001b[0;34m\u001b[0m\n\u001b[1;32m      6\u001b[0m \u001b[0;31m# etudeClusteringKmeans(3)\u001b[0m\u001b[0;34m\u001b[0m\u001b[0;34m\u001b[0m\u001b[0;34m\u001b[0m\u001b[0m\n\u001b[1;32m      7\u001b[0m \u001b[0mprint\u001b[0m\u001b[0;34m(\u001b[0m\u001b[0;34m\" ----------- 4 clusters -----------\"\u001b[0m\u001b[0;34m)\u001b[0m\u001b[0;34m\u001b[0m\u001b[0;34m\u001b[0m\u001b[0m\n\u001b[0;32m----> 8\u001b[0;31m \u001b[0metudeClusteringKmeans\u001b[0m\u001b[0;34m(\u001b[0m\u001b[0;36m4\u001b[0m\u001b[0;34m)\u001b[0m\u001b[0;34m\u001b[0m\u001b[0;34m\u001b[0m\u001b[0m\n\u001b[0m\u001b[1;32m      9\u001b[0m \u001b[0msourceFile\u001b[0m\u001b[0;34m.\u001b[0m\u001b[0mclose\u001b[0m\u001b[0;34m(\u001b[0m\u001b[0;34m)\u001b[0m\u001b[0;34m\u001b[0m\u001b[0;34m\u001b[0m\u001b[0m\n",
      "\u001b[0;31mNameError\u001b[0m: name 'etudeClusteringKmeans' is not defined"
     ]
    }
   ],
   "source": [
    "sourceFile = open('Etude_classes.txt', 'w')\n",
    "# etude en fonction du nombre de clusters\n",
    "# print(\" ----------- 2 clusters -----------\")\n",
    "# etudeClusteringKmeans(2)\n",
    "# print(\" ----------- 3 clusters -----------\")\n",
    "# etudeClusteringKmeans(3)\n",
    "print(\" ----------- 4 clusters -----------\")\n",
    "etudeClusteringKmeans(4)\n",
    "sourceFile.close()"
   ]
  },
  {
   "cell_type": "markdown",
   "metadata": {},
   "source": [
    "=============== Fonction pour assigner un cluster Ã  une nouvelle valeure =============== #"
   ]
  },
  {
   "cell_type": "code",
   "execution_count": null,
   "metadata": {},
   "outputs": [],
   "source": [
    "def classerNewUserKMeans(user, nb_cluster):\n",
    "    user = np.array(user)\n",
    "    kmeans = cluster.KMeans(n_clusters=nb_cluster)\n",
    "    kmeans.fit(dataFrameDonnees_cr)\n",
    "    # baricentres des n clusters\n",
    "    # print(kmeans.cluster_centers_)\n",
    "\n",
    "    #predict sinon\n",
    "    pred = kmeans.predict(user)\n",
    "\n",
    "    # discrÃ©tise l'Ã©chelle de couleur viridis pour l'affichage\n",
    "    cmap = plt.get_cmap(\"viridis\", nb_cluster)\n",
    "\n",
    "    # crÃ©ation d'un index alÃ©atoire de 10 000 user pour l'affichage\n",
    "    idx = np.random.randint(len(matriceDonnees), size=10000)\n",
    "\n",
    "    # projection 3D pour visualiser les labels\n",
    "\n",
    "    # ACP pour affichage 3D\n",
    "    acp = PCA(n_components=3).fit_transform(dataFrameDonnees_cr)\n",
    "    # crÃ©ation du dataframe concatÃ©nÃ© aux labels\n",
    "    acp_df = pandas.DataFrame(data=acp[idx,:3], columns=[\"CP1\", \"CP2\", \"CP3\"])\n",
    "    labels = pandas.DataFrame(data=kmeans.labels_[idx], columns=[\"label\"])\n",
    "    labeled_acp = pandas.concat([acp_df, labels], axis=1)\n",
    "    # crÃ©ation des groupes pour l'affichage\n",
    "    clusters = labeled_acp.groupby(\"label\")\n",
    "\n",
    "    # projection\n",
    "    fig = plt.figure(figsize=(20,10))\n",
    "    ax = fig.add_subplot(111, projection='3d')\n",
    "    # ax.scatter(acp[:,0],acp[:,1],acp[:,2], c=kmeans.labels_, cmap='viridis', edgecolor='k', s=40, alpha = 0.5) #sans le groupby et l'affichage des legendes\n",
    "    for name, group in clusters :\n",
    "        ax.scatter(group[\"CP1\"],group[\"CP2\"], group[\"CP3\"], color=cmap(int(name)), edgecolor='k', s=40, alpha = 0.5, label = name)\n",
    "    ax.view_init(60,35)\n",
    "    ax.set_title(\"Clustering KMeans \"+ str(nb_cluster) + \" clusters - projection 3D\")\n",
    "    ax.set_xlabel(\"Composante principale 1\")\n",
    "    ax.set_ylabel(\"Composante principale 2\")\n",
    "    ax.set_zlabel(\"Composante principale 3\")\n",
    "    ax.dist = 10\n",
    "    ax.scatter(kmeans.cluster_centers_[:,0], kmeans.cluster_centers_[:,1], kmeans.cluster_centers_[:,2], c='black', s=200, alpha=0.5, label = 'Centroid')\n",
    "    plt.legend() \n",
    "    plt.autoscale(enable=True, axis='x', tight=True)    \n",
    "    for i in range(user.shape[0]):\n",
    "        if user[i,7] == True:\n",
    "            user[i,7] = 1\n",
    "        else :\n",
    "            user[i,7] = 0\n",
    "    baricentres = kmeans.cluster_centers_\n",
    "    distances=np.zeros((1,nb_cluster)) \n",
    "    for i in range(user.shape[0]):\n",
    "        for n in range(nb_cluster):\n",
    "            distances[0,n]=sum((user[i,:]-baricentres[n,:])*(user[i,:]-baricentres[n,:]))\n",
    "\n",
    "    # affichage du rÃ©sultat de la classe en fonction de la distance au baricentre \n",
    "    # et de la classe retournÃ© par la fonction sklearn.kmeans.predict\n",
    "    print(\"--------- Distances aux baricentres ---------\")\n",
    "    print(distances)\n",
    "    id_proche=np.argmin(distances) \n",
    "    print(\"class = \"+str(id_proche)) \n",
    "    print(\"prÃ©diction :\")\n",
    "    print(pred)\n",
    "    print('FIN')\n",
    "    plt.show()"
   ]
  },
  {
   "cell_type": "markdown",
   "metadata": {},
   "source": [
    "=============== Utilisateur Ã  classifier =============== #"
   ]
  },
  {
   "cell_type": "code",
   "execution_count": null,
   "metadata": {},
   "outputs": [],
   "source": [
    "user = [[12, 2, 1, 4, 80, 0.5, 2, True, 0.0821]]\n",
    "# print(user[9])\n",
    "classerNewUserKMeans(user, 4)"
   ]
  }
 ],
 "metadata": {
  "kernelspec": {
   "display_name": "Python 3",
   "language": "python",
   "name": "python3"
  },
  "language_info": {
   "codemirror_mode": {
    "name": "ipython",
    "version": 3
   },
   "file_extension": ".py",
   "mimetype": "text/x-python",
   "name": "python",
   "nbconvert_exporter": "python",
   "pygments_lexer": "ipython3",
   "version": "3.8.5"
  }
 },
 "nbformat": 4,
 "nbformat_minor": 2
}
