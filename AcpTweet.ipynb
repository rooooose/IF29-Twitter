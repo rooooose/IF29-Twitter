{
 "cells": [
  {
   "cell_type": "code",
   "execution_count": 4,
   "metadata": {},
   "outputs": [],
   "source": [
    "import numpy as np\n",
    "import matplotlib\n",
    "import matplotlib.pyplot as plt\n",
    "import pandas as pd\n",
    "import sklearn\n",
    "from sklearn.preprocessing import StandardScaler\n",
    "from sklearn.decomposition import PCA"
   ]
  },
  {
   "cell_type": "code",
   "execution_count": 5,
   "metadata": {},
   "outputs": [],
   "source": [
    "import os, sys, types\n",
    "if \"import_ipynb\" not in sys.modules:\n",
    "    !pip install import-ipynb\n",
    "import import_ipynb\n",
    "sys.path.append(os.getcwd()+\"\\service\")\n",
    "from service import rethinkDBservice as rethinkDBservice"
   ]
  },
  {
   "cell_type": "code",
   "execution_count": 7,
   "metadata": {},
   "outputs": [
    {
     "ename": "KeyboardInterrupt",
     "evalue": "",
     "output_type": "error",
     "traceback": [
      "\u001b[1;31m---------------------------------------------------------------------------\u001b[0m",
      "\u001b[1;31mKeyboardInterrupt\u001b[0m                         Traceback (most recent call last)",
      "\u001b[1;32m<ipython-input-7-e352a0a29912>\u001b[0m in \u001b[0;36m<module>\u001b[1;34m\u001b[0m\n\u001b[1;32m----> 1\u001b[1;33m \u001b[0musers\u001b[0m \u001b[1;33m=\u001b[0m \u001b[0mlist\u001b[0m\u001b[1;33m(\u001b[0m\u001b[0mrethinkDBservice\u001b[0m\u001b[1;33m.\u001b[0m\u001b[0mgetUsersCursors\u001b[0m\u001b[1;33m(\u001b[0m\u001b[1;33m)\u001b[0m\u001b[1;33m)\u001b[0m\u001b[1;33m\u001b[0m\u001b[1;33m\u001b[0m\u001b[0m\n\u001b[0m\u001b[0;32m      2\u001b[0m \u001b[0mtable\u001b[0m\u001b[1;33m=\u001b[0m\u001b[1;33m[\u001b[0m\u001b[1;33m]\u001b[0m\u001b[1;33m\u001b[0m\u001b[1;33m\u001b[0m\u001b[0m\n\u001b[0;32m      3\u001b[0m \u001b[0metiquettes\u001b[0m \u001b[1;33m=\u001b[0m \u001b[1;33m[\u001b[0m\u001b[1;33m]\u001b[0m\u001b[1;33m\u001b[0m\u001b[1;33m\u001b[0m\u001b[0m\n\u001b[0;32m      4\u001b[0m \u001b[1;31m# cmp = 0\u001b[0m\u001b[1;33m\u001b[0m\u001b[1;33m\u001b[0m\u001b[1;33m\u001b[0m\u001b[0m\n\u001b[0;32m      5\u001b[0m \u001b[1;32mfor\u001b[0m \u001b[0muser\u001b[0m \u001b[1;32min\u001b[0m \u001b[0musers\u001b[0m\u001b[1;33m:\u001b[0m\u001b[1;33m\u001b[0m\u001b[1;33m\u001b[0m\u001b[0m\n",
      "\u001b[1;32m~\\anaconda3\\lib\\site-packages\\rethinkdb\\net.py\u001b[0m in \u001b[0;36m__next__\u001b[1;34m(self)\u001b[0m\n\u001b[0;32m    321\u001b[0m \u001b[1;33m\u001b[0m\u001b[0m\n\u001b[0;32m    322\u001b[0m     \u001b[1;32mdef\u001b[0m \u001b[0m__next__\u001b[0m\u001b[1;33m(\u001b[0m\u001b[0mself\u001b[0m\u001b[1;33m)\u001b[0m\u001b[1;33m:\u001b[0m\u001b[1;33m\u001b[0m\u001b[1;33m\u001b[0m\u001b[0m\n\u001b[1;32m--> 323\u001b[1;33m         \u001b[1;32mreturn\u001b[0m \u001b[0mself\u001b[0m\u001b[1;33m.\u001b[0m\u001b[0m_get_next\u001b[0m\u001b[1;33m(\u001b[0m\u001b[1;32mNone\u001b[0m\u001b[1;33m)\u001b[0m\u001b[1;33m\u001b[0m\u001b[1;33m\u001b[0m\u001b[0m\n\u001b[0m\u001b[0;32m    324\u001b[0m \u001b[1;33m\u001b[0m\u001b[0m\n\u001b[0;32m    325\u001b[0m     \u001b[1;32mdef\u001b[0m \u001b[0m_empty_error\u001b[0m\u001b[1;33m(\u001b[0m\u001b[0mself\u001b[0m\u001b[1;33m)\u001b[0m\u001b[1;33m:\u001b[0m\u001b[1;33m\u001b[0m\u001b[1;33m\u001b[0m\u001b[0m\n",
      "\u001b[1;32m~\\anaconda3\\lib\\site-packages\\rethinkdb\\net.py\u001b[0m in \u001b[0;36m_get_next\u001b[1;34m(self, timeout)\u001b[0m\n\u001b[0;32m    332\u001b[0m             \u001b[1;32mif\u001b[0m \u001b[0mself\u001b[0m\u001b[1;33m.\u001b[0m\u001b[0merror\u001b[0m \u001b[1;32mis\u001b[0m \u001b[1;32mnot\u001b[0m \u001b[1;32mNone\u001b[0m\u001b[1;33m:\u001b[0m\u001b[1;33m\u001b[0m\u001b[1;33m\u001b[0m\u001b[0m\n\u001b[0;32m    333\u001b[0m                 \u001b[1;32mraise\u001b[0m \u001b[0mself\u001b[0m\u001b[1;33m.\u001b[0m\u001b[0merror\u001b[0m\u001b[1;33m\u001b[0m\u001b[1;33m\u001b[0m\u001b[0m\n\u001b[1;32m--> 334\u001b[1;33m             \u001b[0mself\u001b[0m\u001b[1;33m.\u001b[0m\u001b[0mconn\u001b[0m\u001b[1;33m.\u001b[0m\u001b[0m_read_response\u001b[0m\u001b[1;33m(\u001b[0m\u001b[0mself\u001b[0m\u001b[1;33m.\u001b[0m\u001b[0mquery\u001b[0m\u001b[1;33m,\u001b[0m \u001b[0mdeadline\u001b[0m\u001b[1;33m)\u001b[0m\u001b[1;33m\u001b[0m\u001b[1;33m\u001b[0m\u001b[0m\n\u001b[0m\u001b[0;32m    335\u001b[0m         \u001b[1;32mreturn\u001b[0m \u001b[0mself\u001b[0m\u001b[1;33m.\u001b[0m\u001b[0mitems\u001b[0m\u001b[1;33m.\u001b[0m\u001b[0mpopleft\u001b[0m\u001b[1;33m(\u001b[0m\u001b[1;33m)\u001b[0m\u001b[1;33m\u001b[0m\u001b[1;33m\u001b[0m\u001b[0m\n\u001b[0;32m    336\u001b[0m \u001b[1;33m\u001b[0m\u001b[0m\n",
      "\u001b[1;32m~\\anaconda3\\lib\\site-packages\\rethinkdb\\net.py\u001b[0m in \u001b[0;36m_read_response\u001b[1;34m(self, query, deadline)\u001b[0m\n\u001b[0;32m    596\u001b[0m                 \u001b[1;31m# then create a new connection for the user's convenience.\u001b[0m\u001b[1;33m\u001b[0m\u001b[1;33m\u001b[0m\u001b[1;33m\u001b[0m\u001b[0m\n\u001b[0;32m    597\u001b[0m                 \u001b[0mself\u001b[0m\u001b[1;33m.\u001b[0m\u001b[0m_parent\u001b[0m\u001b[1;33m.\u001b[0m\u001b[0mreconnect\u001b[0m\u001b[1;33m(\u001b[0m\u001b[0mnoreply_wait\u001b[0m\u001b[1;33m=\u001b[0m\u001b[1;32mFalse\u001b[0m\u001b[1;33m)\u001b[0m\u001b[1;33m\u001b[0m\u001b[1;33m\u001b[0m\u001b[0m\n\u001b[1;32m--> 598\u001b[1;33m                 \u001b[1;32mraise\u001b[0m \u001b[0mex\u001b[0m\u001b[1;33m\u001b[0m\u001b[1;33m\u001b[0m\u001b[0m\n\u001b[0m\u001b[0;32m    599\u001b[0m \u001b[1;33m\u001b[0m\u001b[0m\n\u001b[0;32m    600\u001b[0m             \u001b[0mres\u001b[0m \u001b[1;33m=\u001b[0m \u001b[1;32mNone\u001b[0m\u001b[1;33m\u001b[0m\u001b[1;33m\u001b[0m\u001b[0m\n",
      "\u001b[1;32m~\\anaconda3\\lib\\site-packages\\rethinkdb\\net.py\u001b[0m in \u001b[0;36m_read_response\u001b[1;34m(self, query, deadline)\u001b[0m\n\u001b[0;32m    590\u001b[0m                     \u001b[0mself\u001b[0m\u001b[1;33m.\u001b[0m\u001b[0m_header_in_progress\u001b[0m \u001b[1;33m=\u001b[0m \u001b[0mself\u001b[0m\u001b[1;33m.\u001b[0m\u001b[0m_socket\u001b[0m\u001b[1;33m.\u001b[0m\u001b[0mrecvall\u001b[0m\u001b[1;33m(\u001b[0m\u001b[1;36m12\u001b[0m\u001b[1;33m,\u001b[0m \u001b[0mdeadline\u001b[0m\u001b[1;33m)\u001b[0m\u001b[1;33m\u001b[0m\u001b[1;33m\u001b[0m\u001b[0m\n\u001b[0;32m    591\u001b[0m                 \u001b[1;33m(\u001b[0m\u001b[0mres_token\u001b[0m\u001b[1;33m,\u001b[0m \u001b[0mres_len\u001b[0m\u001b[1;33m,\u001b[0m\u001b[1;33m)\u001b[0m \u001b[1;33m=\u001b[0m \u001b[0mstruct\u001b[0m\u001b[1;33m.\u001b[0m\u001b[0munpack\u001b[0m\u001b[1;33m(\u001b[0m\u001b[1;34m\"<qL\"\u001b[0m\u001b[1;33m,\u001b[0m \u001b[0mself\u001b[0m\u001b[1;33m.\u001b[0m\u001b[0m_header_in_progress\u001b[0m\u001b[1;33m)\u001b[0m\u001b[1;33m\u001b[0m\u001b[1;33m\u001b[0m\u001b[0m\n\u001b[1;32m--> 592\u001b[1;33m                 \u001b[0mres_buf\u001b[0m \u001b[1;33m=\u001b[0m \u001b[0mself\u001b[0m\u001b[1;33m.\u001b[0m\u001b[0m_socket\u001b[0m\u001b[1;33m.\u001b[0m\u001b[0mrecvall\u001b[0m\u001b[1;33m(\u001b[0m\u001b[0mres_len\u001b[0m\u001b[1;33m,\u001b[0m \u001b[0mdeadline\u001b[0m\u001b[1;33m)\u001b[0m\u001b[1;33m\u001b[0m\u001b[1;33m\u001b[0m\u001b[0m\n\u001b[0m\u001b[0;32m    593\u001b[0m                 \u001b[0mself\u001b[0m\u001b[1;33m.\u001b[0m\u001b[0m_header_in_progress\u001b[0m \u001b[1;33m=\u001b[0m \u001b[1;32mNone\u001b[0m\u001b[1;33m\u001b[0m\u001b[1;33m\u001b[0m\u001b[0m\n\u001b[0;32m    594\u001b[0m             \u001b[1;32mexcept\u001b[0m \u001b[0mKeyboardInterrupt\u001b[0m \u001b[1;32mas\u001b[0m \u001b[0mex\u001b[0m\u001b[1;33m:\u001b[0m\u001b[1;33m\u001b[0m\u001b[1;33m\u001b[0m\u001b[0m\n",
      "\u001b[1;32m~\\anaconda3\\lib\\site-packages\\rethinkdb\\net.py\u001b[0m in \u001b[0;36mrecvall\u001b[1;34m(self, length, deadline)\u001b[0m\n\u001b[0;32m    462\u001b[0m             \u001b[1;32mwhile\u001b[0m \u001b[1;32mTrue\u001b[0m\u001b[1;33m:\u001b[0m\u001b[1;33m\u001b[0m\u001b[1;33m\u001b[0m\u001b[0m\n\u001b[0;32m    463\u001b[0m                 \u001b[1;32mtry\u001b[0m\u001b[1;33m:\u001b[0m\u001b[1;33m\u001b[0m\u001b[1;33m\u001b[0m\u001b[0m\n\u001b[1;32m--> 464\u001b[1;33m                     \u001b[0mchunk\u001b[0m \u001b[1;33m=\u001b[0m \u001b[0mself\u001b[0m\u001b[1;33m.\u001b[0m\u001b[0m_socket\u001b[0m\u001b[1;33m.\u001b[0m\u001b[0mrecv\u001b[0m\u001b[1;33m(\u001b[0m\u001b[0mlength\u001b[0m \u001b[1;33m-\u001b[0m \u001b[0mlen\u001b[0m\u001b[1;33m(\u001b[0m\u001b[0mres\u001b[0m\u001b[1;33m)\u001b[0m\u001b[1;33m)\u001b[0m\u001b[1;33m\u001b[0m\u001b[1;33m\u001b[0m\u001b[0m\n\u001b[0m\u001b[0;32m    465\u001b[0m                     \u001b[0mself\u001b[0m\u001b[1;33m.\u001b[0m\u001b[0m_socket\u001b[0m\u001b[1;33m.\u001b[0m\u001b[0msettimeout\u001b[0m\u001b[1;33m(\u001b[0m\u001b[1;32mNone\u001b[0m\u001b[1;33m)\u001b[0m\u001b[1;33m\u001b[0m\u001b[1;33m\u001b[0m\u001b[0m\n\u001b[0;32m    466\u001b[0m                     \u001b[1;32mbreak\u001b[0m\u001b[1;33m\u001b[0m\u001b[1;33m\u001b[0m\u001b[0m\n",
      "\u001b[1;31mKeyboardInterrupt\u001b[0m: "
     ]
    }
   ],
   "source": [
    "users = list(rethinkDBservice.getUsersCursors())\n",
    "table=[]\n",
    "etiquettes = []\n",
    "# cmp = 0\n",
    "for user in users:\n",
    "    table.append([\n",
    "        user[\"accountAge(days)\"],\n",
    "        user[\"agressivite\"],\n",
    "        user[\"avg_hashtag\"],\n",
    "        user[\"avg_url\"],\n",
    "        user[\"mediumLength\"],\n",
    "        user[\"rationFollowersFriends\"],\n",
    "        user[\"tweet_per_day\"],\n",
    "        user[\"verified\"],\n",
    "        user[\"visibility\"]\n",
    "    ])\n",
    "    etiquettes.append(user[\"suspect\"])\n",
    "    # cmp+=1\n",
    "    # print(cmp)"
   ]
  },
  {
   "cell_type": "code",
   "execution_count": null,
   "metadata": {},
   "outputs": [],
   "source": [
    "matriceDonnees = np.array(table)\n",
    "# print(matriceDonnees)"
   ]
  },
  {
   "cell_type": "code",
   "execution_count": null,
   "metadata": {},
   "outputs": [],
   "source": [
    "attribut = np.array([\"accountAge\", \"agressivite\", \"avg_hashtag\", \"avg_url\", \"mediumLength\", \"rationFollowersFriends\", \"tweet_per_day\", \"verified\", \"visibility\"])"
   ]
  },
  {
   "cell_type": "markdown",
   "metadata": {},
   "source": [
    "ACP pour afficher graphique en coude pour choix du nombre de CP"
   ]
  },
  {
   "cell_type": "code",
   "execution_count": null,
   "metadata": {},
   "outputs": [],
   "source": [
    "sc = StandardScaler()\n",
    "Z = sc.fit_transform(matriceDonnees)"
   ]
  },
  {
   "cell_type": "code",
   "execution_count": null,
   "metadata": {},
   "outputs": [],
   "source": [
    "acp = PCA(svd_solver='full')"
   ]
  },
  {
   "cell_type": "markdown",
   "metadata": {},
   "source": [
    "calculs des composantes principales"
   ]
  },
  {
   "cell_type": "code",
   "execution_count": null,
   "metadata": {},
   "outputs": [],
   "source": [
    "composante_princ = acp.fit_transform(Z)\n",
    "# print(composante_princ[0])\n",
    "# nombre de composantes calculÃ©es\n",
    "# print(acp.n_components_) "
   ]
  },
  {
   "cell_type": "markdown",
   "metadata": {},
   "source": [
    "valeur corrigÃ©e par les valeurs singuliÃ¨res"
   ]
  },
  {
   "cell_type": "code",
   "execution_count": null,
   "metadata": {},
   "outputs": [],
   "source": [
    "n=Z.shape[0]\n",
    "eigval = acp.singular_values_**2/n"
   ]
  },
  {
   "cell_type": "markdown",
   "metadata": {},
   "source": [
    "plt.plot(np.arange(1,9+1),eigval)<br>\n",
    "plt.title(\"Scree plot\")<br>\n",
    "plt.ylabel(\"Eigen values\")<br>\n",
    "plt.xlabel(\"Factor number\")<br>\n",
    "plt.show()"
   ]
  },
  {
   "cell_type": "markdown",
   "metadata": {},
   "source": [
    "=============================================================== #<br>\n",
    "      ANALYSE ACP - inertie et contribution des attributs       #<br>\n",
    "=============================================================== #"
   ]
  },
  {
   "cell_type": "markdown",
   "metadata": {},
   "source": [
    "===================== Introduction ===================== #<br>\n",
    "cette analyse plus approfondi n'utilise pas la bibliothÃ¨que sklearn mais un TD rÃ©alisÃ© dans le cadre de l'UE IF29<br>\n",
    "cette analyse permet de mettre en Ã©vidence le choix du nombre de CP et les attributs contribuant Ã  la formation des axes"
   ]
  },
  {
   "cell_type": "markdown",
   "metadata": {},
   "source": [
    "===================== Baricentre et inertie ===================== #<br>\n",
    "imension"
   ]
  },
  {
   "cell_type": "code",
   "execution_count": null,
   "metadata": {},
   "outputs": [],
   "source": [
    "dimMatrice=matriceDonnees.shape\n",
    "# print(dimMatrice)"
   ]
  },
  {
   "cell_type": "markdown",
   "metadata": {},
   "source": [
    "alcul du baricentre g"
   ]
  },
  {
   "cell_type": "code",
   "execution_count": null,
   "metadata": {},
   "outputs": [],
   "source": [
    "g=np.zeros((1,dimMatrice[1]))\n",
    "for j in range(dimMatrice[1]):\n",
    "    g[0,j]=np.mean(matriceDonnees[:,j])\n",
    "# print(g)"
   ]
  },
  {
   "cell_type": "markdown",
   "metadata": {},
   "source": [
    "alcul de l'inertie"
   ]
  },
  {
   "cell_type": "code",
   "execution_count": null,
   "metadata": {},
   "outputs": [],
   "source": [
    "I=0\n",
    "for i in range(dimMatrice[0]):\n",
    "    I= I + np.sum((matriceDonnees[i,:]-g)*(matriceDonnees[i,:]-g))\n",
    "I = I/dimMatrice[0]\n",
    "# print(I)"
   ]
  },
  {
   "cell_type": "markdown",
   "metadata": {},
   "source": [
    "===================== Centrer-rÃ©duire les donnÃ©es ===================== #<br>\n",
    "atrice de valeurs centrÃ©es"
   ]
  },
  {
   "cell_type": "code",
   "execution_count": null,
   "metadata": {},
   "outputs": [],
   "source": [
    "Y=np.zeros(dimMatrice)\n",
    "for j in range(dimMatrice[1]):\n",
    "    Y[:,j]= matriceDonnees[:,j] - np.mean(matriceDonnees[:,j])\n",
    "# print(Y)"
   ]
  },
  {
   "cell_type": "markdown",
   "metadata": {},
   "source": [
    "alcul de gy"
   ]
  },
  {
   "cell_type": "code",
   "execution_count": null,
   "metadata": {},
   "outputs": [],
   "source": [
    "gy=np.zeros((1,dimMatrice[1]))\n",
    "for j in range(dimMatrice[1]):\n",
    "    gy[0,j] = np.mean(Y[:,j])\n",
    "# print(gy)"
   ]
  },
  {
   "cell_type": "markdown",
   "metadata": {},
   "source": [
    "graphique avec croisement deux Ã  deux"
   ]
  },
  {
   "cell_type": "code",
   "execution_count": null,
   "metadata": {},
   "outputs": [],
   "source": [
    "idx = np.random.randint(len(matriceDonnees), size=500)"
   ]
  },
  {
   "cell_type": "markdown",
   "metadata": {},
   "source": [
    "from pandas.plotting import scatter_matrix<br>\n",
    "dataFrameDonnees = pd.DataFrame(data=matriceDonnees[idx,:], columns=[\"accountAge(days)\", \"agressivite\",\"avg_hashtag\",\"avg_url\",\"mediumLength\",\"rationFollowersFriends\",\"tweet_per_day\",\"verified\",\"visibility\"])<br>\n",
    "pd.plotting.scatter_matrix(dataFrameDonnees,figsize=(9,9))<br>\n",
    "plt.show()"
   ]
  },
  {
   "cell_type": "markdown",
   "metadata": {},
   "source": [
    "alcul de l'inertie"
   ]
  },
  {
   "cell_type": "code",
   "execution_count": null,
   "metadata": {},
   "outputs": [],
   "source": [
    "Iy=0\n",
    "for i in range(dimMatrice[0]):\n",
    "    Iy = Iy + np.sum((Y[i,:] - gy)*(Y[i,:] - gy))"
   ]
  },
  {
   "cell_type": "code",
   "execution_count": null,
   "metadata": {},
   "outputs": [],
   "source": [
    "Iy = Iy/dimMatrice[0]\n",
    "# print(Iy)"
   ]
  },
  {
   "cell_type": "markdown",
   "metadata": {},
   "source": [
    "#matrice de valeurs centrÃ©es-rÃ©duites - gestion de la division par zÃ©ros<br>\n",
    "Z = np.zeros(dimMatrice)<br>\n",
    "for j in range (dimMatrice[1]):<br>\n",
    "  if Y[:,j]/np.std(Y[:,j]) == 0:<br>\n",
    "      Z[:,j] = 0<br>\n",
    "  else:<br>\n",
    "      Z[:,j] = Y[:,j]/np.std(Y[:,j])"
   ]
  },
  {
   "cell_type": "markdown",
   "metadata": {},
   "source": [
    "entrage rÃ©duction des donnÃ©es"
   ]
  },
  {
   "cell_type": "code",
   "execution_count": null,
   "metadata": {},
   "outputs": [],
   "source": [
    "from sklearn import preprocessing\n",
    "Z = preprocessing.scale(matriceDonnees)"
   ]
  },
  {
   "cell_type": "markdown",
   "metadata": {},
   "source": [
    "alcul de gz"
   ]
  },
  {
   "cell_type": "code",
   "execution_count": null,
   "metadata": {},
   "outputs": [],
   "source": [
    "gz = np.zeros((1,dimMatrice[1]))\n",
    "for j in range(dimMatrice[1]):\n",
    "    gz[0, j] = np.mean(Z[:,j])"
   ]
  },
  {
   "cell_type": "markdown",
   "metadata": {},
   "source": [
    "alcul de l'inertie"
   ]
  },
  {
   "cell_type": "code",
   "execution_count": null,
   "metadata": {},
   "outputs": [],
   "source": [
    "Iz = 0\n",
    "for i in range(dimMatrice[0]):\n",
    "    Iz = Iz + np.sum((Z[i,:] - gz)*(Z[i,:] - gz))\n",
    "Iz = Iz / dimMatrice[0]\n",
    "# print(Iz)"
   ]
  },
  {
   "cell_type": "markdown",
   "metadata": {},
   "source": [
    "===================== CorrÃ©lations, VeP et VaP ===================== #<br>\n",
    "atrice corrÃ©lations"
   ]
  },
  {
   "cell_type": "code",
   "execution_count": null,
   "metadata": {},
   "outputs": [],
   "source": [
    "Mcorr=np.corrcoef(np.transpose(Z))\n",
    "# print(\"---------------- Matrice corr. ----------------\")\n",
    "# print(Mcorr)\n",
    "# print(Mcorr.shape)"
   ]
  },
  {
   "cell_type": "markdown",
   "metadata": {},
   "source": [
    "gÃ¨re lorsqu'un utilisateur n'a pas de valeur pour un de ses attributs."
   ]
  },
  {
   "cell_type": "code",
   "execution_count": null,
   "metadata": {},
   "outputs": [],
   "source": [
    "def isNaN(num):\n",
    "    if float('-inf') < float(num) < float('inf'):\n",
    "        return False \n",
    "    else:\n",
    "        return True"
   ]
  },
  {
   "cell_type": "code",
   "execution_count": null,
   "metadata": {},
   "outputs": [],
   "source": [
    "for i in range (Mcorr.shape[0]):\n",
    "    for j in range(Mcorr.shape[1]):\n",
    "        if isNaN(Mcorr[i,j]) :\n",
    "            Mcorr[i,j] = 0"
   ]
  },
  {
   "cell_type": "markdown",
   "metadata": {},
   "source": [
    "ecteurs propres et Valeurs propres"
   ]
  },
  {
   "cell_type": "code",
   "execution_count": null,
   "metadata": {},
   "outputs": [],
   "source": [
    "VaP,VeP=np.linalg.eig(Mcorr)\n",
    "#print(\"--------- VeP : vecteur propre ---------\")\n",
    "#print(VeP)\n",
    "#print(\"--------- VaP : valeur propre ---------\")\n",
    "#print(VaP)"
   ]
  },
  {
   "cell_type": "markdown",
   "metadata": {},
   "source": [
    "nertie dans le nouvel espace"
   ]
  },
  {
   "cell_type": "code",
   "execution_count": null,
   "metadata": {},
   "outputs": [],
   "source": [
    "Iacp=np.sum(VaP)"
   ]
  },
  {
   "cell_type": "markdown",
   "metadata": {},
   "source": [
    "===================== ACP 2 composantes ===================== #<br>\n",
    "alcul des 2 premiÃ¨res composantes"
   ]
  },
  {
   "cell_type": "code",
   "execution_count": null,
   "metadata": {},
   "outputs": [],
   "source": [
    "CP2=np.dot(Z,VeP[:,0:2])  #O:2=0 et 1\n",
    "#print(CP2)"
   ]
  },
  {
   "cell_type": "markdown",
   "metadata": {},
   "source": [
    "orrÃ©lation entre les 2 composantes"
   ]
  },
  {
   "cell_type": "code",
   "execution_count": null,
   "metadata": {},
   "outputs": [],
   "source": [
    "Mcorr2 = np.corrcoef(np.transpose(CP2))\n",
    "# print(\"--------- Mcorr2 : F1 et F2 ---------\")\n",
    "# print(Mcorr2)"
   ]
  },
  {
   "cell_type": "markdown",
   "metadata": {},
   "source": [
    "ourcentage d'inertie dans les 2 axes"
   ]
  },
  {
   "cell_type": "code",
   "execution_count": null,
   "metadata": {},
   "outputs": [],
   "source": [
    "pourcent2 = np.sum(VaP[0:2])*100/Iacp\n",
    "# print(\"\")\n",
    "# print(\"--------- pourcent2 : pourcentage d'inertie dans les 2 axes ---------\")\n",
    "# print(pourcent2)"
   ]
  },
  {
   "cell_type": "markdown",
   "metadata": {},
   "source": [
    "eprÃ©sentation de 100 000 individus pris alÃ©atoirement sur ces 2 axes"
   ]
  },
  {
   "cell_type": "code",
   "execution_count": null,
   "metadata": {},
   "outputs": [],
   "source": [
    "idx = np.random.randint(len(matriceDonnees), size=10000)"
   ]
  },
  {
   "cell_type": "markdown",
   "metadata": {},
   "source": [
    "itimg=1 <br>\n",
    "plt.figure(itimg) #on explicite le numÃ©ro de la figure<br>\n",
    "plt.plot(CP2[idx,0], CP2[idx,1],'.')<br>\n",
    "plt.xlabel(\"axe1\")<br>\n",
    "plt.ylabel(\"axe2\")<br>\n",
    "plt.title(\"ReprÃ©sentation de 10 000 points sur les 2 composantes principales\")"
   ]
  },
  {
   "cell_type": "markdown",
   "metadata": {},
   "source": [
    "===================== ACP 3 composantes ===================== #<br>\n",
    "alcul des 3 premiÃ¨res composantes"
   ]
  },
  {
   "cell_type": "code",
   "execution_count": null,
   "metadata": {},
   "outputs": [],
   "source": [
    "CP3=np.dot(Z,VeP[:,0:3])  #O:2=0 et 1"
   ]
  },
  {
   "cell_type": "markdown",
   "metadata": {},
   "source": [
    "orrÃ©lation entre les 3 composantes"
   ]
  },
  {
   "cell_type": "code",
   "execution_count": null,
   "metadata": {},
   "outputs": [],
   "source": [
    "Mcorr3 = np.corrcoef(np.transpose(CP3))\n",
    "# print(\"--------- Mcorr3 : F1, F2 et F3 ---------\")\n",
    "# print(Mcorr3)"
   ]
  },
  {
   "cell_type": "markdown",
   "metadata": {},
   "source": [
    "ourcentage d'inertie dans les 3 axes"
   ]
  },
  {
   "cell_type": "code",
   "execution_count": null,
   "metadata": {},
   "outputs": [],
   "source": [
    "pourcent3 = np.sum(VaP[0:3])*100/Iacp\n",
    "# print(\"\")\n",
    "# print(\"--------- pourcent3 : pourcentage d'inertie dans les 3 axes ---------\")\n",
    "# print(pourcent3)"
   ]
  },
  {
   "cell_type": "markdown",
   "metadata": {},
   "source": [
    "===================== CTA et CTR pour ACP2 ===================== #"
   ]
  },
  {
   "cell_type": "markdown",
   "metadata": {},
   "source": [
    "atrice corrÃ©lation des variables originales sur la composante principale Fi (ici pour 2 CP)"
   ]
  },
  {
   "cell_type": "code",
   "execution_count": null,
   "metadata": {},
   "outputs": [],
   "source": [
    "McorrV2 = np.zeros((dimMatrice[1], 2))\n",
    "for i in range(dimMatrice[1]):\n",
    "    for j in range(2):\n",
    "        McorrV2[i,j] = np.corrcoef(Z[:,i], CP2[:,j])[0,1]\n",
    "#[0,1] est l'indice dans la matrice de corr.\n",
    "# print(\"--------- McorrV2 ---------\")\n",
    "# print(McorrV2)"
   ]
  },
  {
   "cell_type": "markdown",
   "metadata": {},
   "source": [
    "TR"
   ]
  },
  {
   "cell_type": "code",
   "execution_count": null,
   "metadata": {},
   "outputs": [],
   "source": [
    "CTRV2=McorrV2*McorrV2*100"
   ]
  },
  {
   "cell_type": "markdown",
   "metadata": {},
   "source": [
    "TA"
   ]
  },
  {
   "cell_type": "code",
   "execution_count": null,
   "metadata": {},
   "outputs": [],
   "source": [
    "CTAV2=np.zeros(CTRV2.shape)\n",
    "for j in range(2):\n",
    "    CTAV2[:,j]=CTRV2[:,j]/VaP[j]"
   ]
  },
  {
   "cell_type": "markdown",
   "metadata": {},
   "source": [
    "print(\"--------- CTRV2 ---------\")<br>\n",
    "print(CTRV2)"
   ]
  },
  {
   "cell_type": "markdown",
   "metadata": {},
   "source": [
    "print(\"--------- CTAV2 ---------\")"
   ]
  },
  {
   "cell_type": "code",
   "execution_count": null,
   "metadata": {},
   "outputs": [],
   "source": [
    "CTAV2 = pd.DataFrame(CTAV2)\n",
    "CTAV2.index = attribut\n",
    "# print(CTAV2)"
   ]
  },
  {
   "cell_type": "markdown",
   "metadata": {},
   "source": [
    "ReprÃ©sentation des vecteurs de corrÃ©lation sur le cercle unitÃ©<br>\n",
    "trace le cercle"
   ]
  },
  {
   "cell_type": "code",
   "execution_count": null,
   "metadata": {},
   "outputs": [],
   "source": [
    "import math \n",
    "t=np.linspace(0,2*math.pi)\n",
    "x1=np.zeros(t.shape)\n",
    "y1=np.zeros(t.shape)\n",
    "for i in range(t.size):\n",
    "    #print(i)\n",
    "    x1[i]=math.cos(t[i])\n",
    "    y1[i]=math.sin(t[i])\n",
    "x2=np.linspace(-1,1)\n",
    "y2=np.zeros(t.shape)\n",
    "x3=np.zeros(t.shape)\n",
    "y3=np.linspace(-1,1)\n",
    "itimg=itimg+1\n",
    "fig = plt.figure(itimg)\n",
    "plt.plot(x1,y1)\n",
    "plt.plot(x2,y2)\n",
    "plt.plot(x3,y3)\n",
    "plt.xlabel(\"axis1\")\n",
    "plt.ylabel(\"axis2\")"
   ]
  },
  {
   "cell_type": "markdown",
   "metadata": {},
   "source": [
    "ajoute les vecteurs"
   ]
  },
  {
   "cell_type": "code",
   "execution_count": null,
   "metadata": {},
   "outputs": [],
   "source": [
    "for j in range(dimMatrice[1]):\n",
    "    plt.plot([0,McorrV2[j,0]],[0,McorrV2[j,1]],'b')\n",
    "    plt.text(McorrV2[j,0],McorrV2[j,1],attribut[j])\n",
    "plt.show() "
   ]
  },
  {
   "cell_type": "markdown",
   "metadata": {},
   "source": [
    "===================== Inertie cumulÃ©e en fonction du nb de CP===================== #"
   ]
  },
  {
   "cell_type": "markdown",
   "metadata": {},
   "source": [
    "Dispersion cumulÃ©es des CP en fonction du nombre de CP"
   ]
  },
  {
   "cell_type": "code",
   "execution_count": 8,
   "metadata": {},
   "outputs": [
    {
     "ename": "NameError",
     "evalue": "name 'VaP' is not defined",
     "output_type": "error",
     "traceback": [
      "\u001b[1;31m---------------------------------------------------------------------------\u001b[0m",
      "\u001b[1;31mNameError\u001b[0m                                 Traceback (most recent call last)",
      "\u001b[1;32m<ipython-input-8-1b9900d6f8e1>\u001b[0m in \u001b[0;36m<module>\u001b[1;34m\u001b[0m\n\u001b[1;32m----> 1\u001b[1;33m \u001b[0mx\u001b[0m\u001b[1;33m=\u001b[0m\u001b[0mnp\u001b[0m\u001b[1;33m.\u001b[0m\u001b[0marange\u001b[0m\u001b[1;33m(\u001b[0m\u001b[1;36m0\u001b[0m\u001b[1;33m,\u001b[0m\u001b[0mVaP\u001b[0m\u001b[1;33m.\u001b[0m\u001b[0msize\u001b[0m\u001b[1;33m)\u001b[0m\u001b[1;33m+\u001b[0m\u001b[1;36m1\u001b[0m\u001b[1;33m\u001b[0m\u001b[1;33m\u001b[0m\u001b[0m\n\u001b[0m\u001b[0;32m      2\u001b[0m \u001b[0mpoucent_cumul\u001b[0m\u001b[1;33m=\u001b[0m\u001b[0mnp\u001b[0m\u001b[1;33m.\u001b[0m\u001b[0mcumsum\u001b[0m\u001b[1;33m(\u001b[0m\u001b[0mVaP\u001b[0m\u001b[1;33m*\u001b[0m\u001b[1;36m100\u001b[0m\u001b[1;33m/\u001b[0m\u001b[0mnp\u001b[0m\u001b[1;33m.\u001b[0m\u001b[0msum\u001b[0m\u001b[1;33m(\u001b[0m\u001b[0mVaP\u001b[0m\u001b[1;33m)\u001b[0m\u001b[1;33m)\u001b[0m\u001b[1;33m\u001b[0m\u001b[1;33m\u001b[0m\u001b[0m\n\u001b[0;32m      3\u001b[0m \u001b[0mitimg\u001b[0m\u001b[1;33m=\u001b[0m\u001b[0mitimg\u001b[0m\u001b[1;33m+\u001b[0m\u001b[1;36m1\u001b[0m\u001b[1;33m\u001b[0m\u001b[1;33m\u001b[0m\u001b[0m\n\u001b[0;32m      4\u001b[0m \u001b[0mfig\u001b[0m \u001b[1;33m=\u001b[0m \u001b[0mplt\u001b[0m\u001b[1;33m.\u001b[0m\u001b[0mfigure\u001b[0m\u001b[1;33m(\u001b[0m\u001b[0mitimg\u001b[0m\u001b[1;33m)\u001b[0m\u001b[1;33m\u001b[0m\u001b[1;33m\u001b[0m\u001b[0m\n\u001b[0;32m      5\u001b[0m \u001b[0mplt\u001b[0m\u001b[1;33m.\u001b[0m\u001b[0mplot\u001b[0m\u001b[1;33m(\u001b[0m\u001b[0mx\u001b[0m\u001b[1;33m,\u001b[0m\u001b[0mpoucent_cumul\u001b[0m\u001b[1;33m)\u001b[0m\u001b[1;33m\u001b[0m\u001b[1;33m\u001b[0m\u001b[0m\n",
      "\u001b[1;31mNameError\u001b[0m: name 'VaP' is not defined"
     ]
    }
   ],
   "source": [
    "x=np.arange(0,VaP.size)+1 \n",
    "poucent_cumul=np.cumsum(VaP*100/np.sum(VaP)) \n",
    "itimg=itimg+1 \n",
    "fig = plt.figure(itimg) \n",
    "plt.plot(x,poucent_cumul) \n",
    "plt.xlabel(\"nombre de variables\") \n",
    "plt.ylabel(\"pourcentage d'inertie cumulÃ©e\")\n",
    "plt.show()"
   ]
  },
  {
   "cell_type": "code",
   "execution_count": 11,
   "metadata": {},
   "outputs": [
    {
     "name": "stdout",
     "output_type": "stream",
     "text": [
      "Dimension :  (256, 256)\n",
      "hopt :  86\n"
     ]
    },
    {
     "data": {
      "image/png": "[encoded data removed]",
      "text/plain": [
       "<Figure size 432x288 with 1 Axes>"
      ]
     },
     "metadata": {
      "needs_background": "light"
     },
     "output_type": "display_data"
    }
   ],
   "source": [
    "#Exercice 7\n",
    "\n",
    "import matplotlib\n",
    "import numpy as np\n",
    "import matplotlib.pyplot as plt\n",
    "from mpl_toolkits import mplot3d\n",
    "import time\n",
    "\n",
    "A = np.loadtxt(\"image_originale.txt\", dtype='int', delimiter=',', skiprows=0, usecols=None)\n",
    "print(\"Dimension : \",np.shape(A))\n",
    "\n",
    "def getHopt(A):\n",
    "    vecth = np.ndarray.flatten(A)\n",
    "    vecthtri = np.sort(vecth)\n",
    "    size = np.size(A)\n",
    "    hopt = 0\n",
    "    maxVarInter = 0\n",
    "    \n",
    "    for i in range(size):\n",
    "        h = vecthtri[i]\n",
    "        hIndex = np.searchsorted(vecthtri, h)\n",
    "        #print(h, \" \", vecthtri[hIndex-1:hIndex+1])\n",
    "        Ainf = vecthtri[:hIndex]\n",
    "        Asup = vecthtri[hIndex:]\n",
    "\n",
    "        #Pour empêcher les warnings en cas de division par 0\n",
    "        meanInf = 0\n",
    "        if len(Ainf) != 0:\n",
    "            meanInf = np.mean(Ainf)\n",
    "        meanSup = 0\n",
    "        if len(Asup) != 0:\n",
    "            meanSup = np.mean(Asup)\n",
    "            \n",
    "        varInter = (len(Ainf)/size) * (len(Asup)/size) * (meanInf - meanSup)**2\n",
    "        if varInter > maxVarInter:\n",
    "            hopt = h\n",
    "            maxVarInter = varInter\n",
    "            \n",
    "    return hopt\n",
    "\n",
    "\n",
    "def noirEtBlanc(A, h):\n",
    "    B = np.copy(A)\n",
    "    for i in range(np.shape(B)[0]):\n",
    "        for j in range(np.shape(B)[1]):\n",
    "            if (B[i][j] < h):\n",
    "                B[i][j] = 0\n",
    "            else:\n",
    "                B[i][j] = 1\n",
    "    return B\n",
    "\n",
    "hopt = getHopt(A)\n",
    "print(\"hopt : \",hopt)\n",
    "B = noirEtBlanc(A,hopt)\n",
    "plt.imshow(B)\n",
    "plt.gray()\n",
    "plt.show()"
   ]
  }
 ],
 "metadata": {
  "kernelspec": {
   "display_name": "Python 3",
   "language": "python",
   "name": "python3"
  }
 },
 "nbformat": 4,
 "nbformat_minor": 2
}
