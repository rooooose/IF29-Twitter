{
 "cells": [
  {
   "cell_type": "code",
   "execution_count": 1,
   "metadata": {},
   "outputs": [
    {
     "name": "stdout",
     "output_type": "stream",
     "text": [
      "Requirement already satisfied: import-ipynb in c:\\users\\admin\\anaconda3\\lib\\site-packages (0.1.3)\n",
      "importing Jupyter notebook from C:\\Users\\Admin\\OneDrive\\UTT\\IF29\\Projet\\IF29-Twitter\\service\\rethinkDBservice.ipynb\n",
      "Requirement already satisfied: import-ipynb in c:\\users\\admin\\anaconda3\\lib\\site-packages (0.1.3)\n",
      "importing Jupyter notebook from C:\\Users\\Admin\\OneDrive\\UTT\\IF29\\Projet\\IF29-Twitter\\service\\config\\config.ipynb\n"
     ]
    }
   ],
   "source": [
    "import os, sys, types\n",
    "if \"import_ipynb\" not in sys.modules:\n",
    "    !pip install import-ipynb\n",
    "import import_ipynb\n",
    "sys.path.append(os.getcwd()+\"\\service\")\n",
    "from service import rethinkDBservice as rethinkDBservice"
   ]
  },
  {
   "cell_type": "code",
   "execution_count": 2,
   "metadata": {},
   "outputs": [
    {
     "name": "stdout",
     "output_type": "stream",
     "text": [
      "importing Jupyter notebook from C:\\Users\\Admin\\OneDrive\\UTT\\IF29\\Projet\\IF29-Twitter\\scriptCalcParam\\agressiviteTweet.ipynb\n",
      "importing Jupyter notebook from C:\\Users\\Admin\\OneDrive\\UTT\\IF29\\Projet\\IF29-Twitter\\scriptCalcParam\\avgRetweetUrlHashtag.ipynb\n",
      "importing Jupyter notebook from C:\\Users\\Admin\\OneDrive\\UTT\\IF29\\Projet\\IF29-Twitter\\scriptCalcParam\\followers.ipynb\n",
      "importing Jupyter notebook from C:\\Users\\Admin\\OneDrive\\UTT\\IF29\\Projet\\IF29-Twitter\\scriptCalcParam\\mediumLengthTweet.ipynb\n",
      "importing Jupyter notebook from C:\\Users\\Admin\\OneDrive\\UTT\\IF29\\Projet\\IF29-Twitter\\scriptCalcParam\\repliedTweets.ipynb\n",
      "importing Jupyter notebook from C:\\Users\\Admin\\OneDrive\\UTT\\IF29\\Projet\\IF29-Twitter\\scriptCalcParam\\tweet_frequency.ipynb\n",
      "importing Jupyter notebook from C:\\Users\\Admin\\OneDrive\\UTT\\IF29\\Projet\\IF29-Twitter\\scriptCalcParam\\verified.ipynb\n",
      "importing Jupyter notebook from C:\\Users\\Admin\\OneDrive\\UTT\\IF29\\Projet\\IF29-Twitter\\scriptCalcParam\\visibility.ipynb\n",
      "importing Jupyter notebook from C:\\Users\\Admin\\OneDrive\\UTT\\IF29\\Projet\\IF29-Twitter\\scriptCalcParam\\ageAccount.ipynb\n"
     ]
    }
   ],
   "source": [
    "from scriptCalcParam import agressiviteTweet\n",
    "from scriptCalcParam import avgRetweetUrlHashtag\n",
    "from scriptCalcParam import followers\n",
    "from scriptCalcParam import mediumLengthTweet\n",
    "from scriptCalcParam import repliedTweets\n",
    "from scriptCalcParam import tweet_frequency\n",
    "from scriptCalcParam import verified\n",
    "from scriptCalcParam import visibility\n",
    "from scriptCalcParam import ageAccount\n",
    "import pprint\n",
    "import json"
   ]
  },
  {
   "cell_type": "code",
   "execution_count": 3,
   "metadata": {},
   "outputs": [],
   "source": [
    "users = rethinkDBservice.getUsersCursors()\n",
    "cmp = 0\n",
    "for user in users:\n",
    "    if \"version\" in user and user[\"version\"] == '1' :\n",
    "        tweets = list(rethinkDBservice.getTweetsByUserIdCursors(user[\"id\"]))\n",
    "        if len(tweets) != 0:\n",
    "            res = {\n",
    "                \"agressivite\": agressiviteTweet.calcAgressiviteTweet(tweets),\n",
    "                \"avg_retweet\": avgRetweetUrlHashtag.getRetweetAvg(tweets),\n",
    "                \"avg_url\": avgRetweetUrlHashtag.getURLAvg(tweets),\n",
    "                \"avg_hashtag\": avgRetweetUrlHashtag.getHashtagAvg(tweets),\n",
    "                \"rationFollowersFriends\": followers.calcFollowers(tweets),\n",
    "                \"mediumLength\": mediumLengthTweet.get_users_mediumLengthTweets(tweets),\n",
    "                \"rateOfRepliedTweets\": repliedTweets.calcRateRepliedTweets(tweets),\n",
    "                \"tweet_per_day\": tweet_frequency.calcTweetFrequency(tweets),\n",
    "                \"verified\": verified.calcVerified(tweets),\n",
    "                \"visibility\": visibility.calcVisibility(tweets),\n",
    "                \"accountAge(days)\": ageAccount.get_age_account(tweets),\n",
    "                # \"version\": \"2\"\n",
    "            }\n",
    "            rethinkDBservice.updateUser(user[\"id\"], res)\n",
    "            # pprint.pprint(res)\n",
    "            # pprint.pprint(user)\n",
    "            cmp+=1\n",
    "            print(cmp)\n",
    "            # if cmp > 1:\n",
    "            #     break"
   ]
  }
 ],
 "metadata": {
  "kernelspec": {
   "display_name": "Python 3",
   "language": "python",
   "name": "python3"
  },
  "language_info": {
   "codemirror_mode": {
    "name": "ipython",
    "version": 3
   },
   "file_extension": ".py",
   "mimetype": "text/x-python",
   "name": "python",
   "nbconvert_exporter": "python",
   "pygments_lexer": "ipython3",
   "version": "3.8.5"
  }
 },
 "nbformat": 4,
 "nbformat_minor": 2
}
