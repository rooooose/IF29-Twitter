{
 "cells": [
  {
   "cell_type": "code",
   "execution_count": 2,
   "metadata": {},
   "outputs": [
    {
     "name": "stdout",
     "output_type": "stream",
     "text": [
      "Requirement already satisfied: import-ipynb in c:\\users\\admin\\anaconda3\\lib\\site-packages (0.1.3)\n",
      "importing Jupyter notebook from C:\\Users\\Admin\\OneDrive\\UTT\\IF29\\Projet\\IF29-Twitter\\service\\rethinkDBservice.ipynb\n",
      "Requirement already satisfied: import-ipynb in c:\\users\\admin\\anaconda3\\lib\\site-packages (0.1.3)\n",
      "importing Jupyter notebook from C:\\Users\\Admin\\OneDrive\\UTT\\IF29\\Projet\\IF29-Twitter\\service\\config\\config.ipynb\n"
     ]
    }
   ],
   "source": [
    "import os, sys, types\n",
    "if \"import_ipynb\" not in sys.modules:\n",
    "    !pip install import-ipynb\n",
    "import import_ipynb\n",
    "sys.path.append(os.getcwd()+\"\\service\")\n",
    "from service import rethinkDBservice as rethinkDBservice"
   ]
  },
  {
   "cell_type": "code",
   "execution_count": 3,
   "metadata": {},
   "outputs": [],
   "source": [
    "users = rethinkDBservice.getUsersCursors()"
   ]
  },
  {
   "cell_type": "code",
   "execution_count": null,
   "metadata": {},
   "outputs": [],
   "source": [
    "ageMax = 200\n",
    "agressiviteMax = 10\n",
    "visibilityMax = 0.3\n",
    "tweetsPerDayMax = 15\n",
    "ratioFollowersFriendsMax = 0.1\n",
    "avgHashtagMax = 0.3\n",
    "avgUrlMax = 1.5"
   ]
  },
  {
   "cell_type": "code",
   "execution_count": null,
   "metadata": {},
   "outputs": [],
   "source": [
    "nbSuspectTweets = 2055\n",
    "rang = 0\n",
    "for user in users:\n",
    "    rang+=1\n",
    "    print(rang)\n",
    "#    if(user[\"verified\"]):\n",
    "#        rethinkDBservice.updateUser(user[\"id\"], {\"suspect\": -1})\n",
    "    if (user.get(\"suspect\") == None):\n",
    "        attributsSus = 0\n",
    "        if user[\"accountAge(days)\"] < 200:\n",
    "            attributsSus+=1\n",
    "        if user[\"agressivite\"] > agressiviteMax:\n",
    "            attributsSus+=1\n",
    "        if user[\"visibility\"] > visibilityMax:\n",
    "            attributsSus+=1\n",
    "        if user[\"tweet_per_day\"] > tweetsPerDayMax:\n",
    "            attributsSus+=1\n",
    "        if user[\"rationFollowersFriends\"] < ratioFollowersFriendsMax:\n",
    "            attributsSus+=1\n",
    "        if user[\"avg_hashtag\"] > avgHashtagMax:\n",
    "            attributsSus+=1\n",
    "        if user[\"avg_url\"] > avgUrlMax:\n",
    "            attributsSus+=1\n",
    "        if (attributsSus >= 3):\n",
    "            rethinkDBservice.updateUser(user[\"id\"], {\"suspect\": 1})\n",
    "            nbSuspectTweets+=1\n",
    "            print(nbSuspectTweets)\n",
    "            # user['suspect'] = 1\n",
    "        else:\n",
    "            rethinkDBservice.updateUser(user[\"id\"], {\"suspect\": -1})\n",
    "            print(nbSuspectTweets)\n",
    "            # user['suspect'] = 0"
   ]
  },
  {
   "cell_type": "code",
   "execution_count": null,
   "metadata": {},
   "outputs": [],
   "source": [
    "print(nbSuspectTweets)"
   ]
  }
 ],
 "metadata": {
  "kernelspec": {
   "display_name": "Python 3",
   "language": "python",
   "name": "python3"
  },
  "language_info": {
   "codemirror_mode": {
    "name": "ipython",
    "version": 3
   },
   "file_extension": ".py",
   "mimetype": "text/x-python",
   "name": "python",
   "nbconvert_exporter": "python",
   "pygments_lexer": "ipython3",
   "version": "3.8.5"
  }
 },
 "nbformat": 4,
 "nbformat_minor": 2
}
