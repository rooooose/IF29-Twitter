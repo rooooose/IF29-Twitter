{
 "cells": [
  {
   "cell_type": "code",
   "execution_count": 11,
   "metadata": {},
   "outputs": [
    {
     "name": "stdout",
     "output_type": "stream",
     "text": [
      "installé\n"
     ]
    }
   ],
   "source": [
    "import os, sys, types\n",
    "if \"import_ipynb\" not in sys.modules:\n",
    "    !pip install import-ipynb\n",
    "import import_ipynb\n",
    "sys.path.append(os.getcwd()+\"\\service\")\n",
    "from service import rethinkDBservice as rethinkDBservice"
   ]
  },
  {
   "cell_type": "code",
   "execution_count": null,
   "metadata": {},
   "outputs": [],
   "source": [
    "from sklearn.model_selection import train_test_split\n",
    "import numpy as np\n",
    "\n",
    "from inspect import getmembers, isfunction\n",
    "print(getmembers(rethinkDBservice, isfunction))"
   ]
  },
  {
   "cell_type": "code",
   "execution_count": 6,
   "metadata": {},
   "outputs": [
    {
     "data": {
      "text/plain": [
       "<rethinkdb.net.DefaultCursor object at 0x2a8979e4eb0 (streaming): \n",
       "[{'accountAge(days)': 5429,\n",
       "  'agressivite': 0,\n",
       "  'avg_hashtag': 2,\n",
       "  'avg_retweet': 0,\n",
       "  'avg_url': 0,\n",
       "  'id': 2900,\n",
       "  'mediumLength': 140,\n",
       "  'mediumLengthTweets': 140,\n",
       "  'rateOfRepliedTweets': 0,\n",
       "  'rationFollowersFriends': 3.106243532252501,\n",
       "  'suspect': -1,\n",
       "  'tweet_per_day': 1,\n",
       "  'verified': False,\n",
       "  'version': '2',\n",
       "  'visibility': 0.12357142857142858},\n",
       " {'accountAge(days)': 5436,\n",
       "  'agressivite': 0,\n",
       "  'avg_hashtag': 2,\n",
       "  'avg_retweet': 0,\n",
       "  'avg_url': 1,\n",
       "  'id': 1140,\n",
       "  'mediumLength': 135,\n",
       "  'mediumLengthTweets': 135,\n",
       "  'rateOfRepliedTweets': 0,\n",
       "  'rationFollowersFriends': 5.967898832684825,\n",
       "  'suspect': -1,\n",
       "  'tweet_per_day': 1,\n",
       "  'verified': False,\n",
       "  'version': '2',\n",
       "  'visibility': 0.12357142857142858},\n",
       " {'accountAge(days)': 5438,\n",
       "  'agressivite': 0,\n",
       "  'avg_hashtag': 1,\n",
       "  'avg_retweet': 0,\n",
       "  'avg_url': 0,\n",
       "  'id': 885,\n",
       "  'mediumLength': 88,\n",
       "  'mediumLengthTweets': 88,\n",
       "  'rateOfRepliedTweets': 0,\n",
       "  'rationFollowersFriends': 19.555050045495907,\n",
       "  'suspect': -1,\n",
       "  'tweet_per_day': 1,\n",
       "  'verified': True,\n",
       "  'version': '2',\n",
       "  'visibility': 0.041428571428571426},\n",
       " {'accountAge(days)': 5435,\n",
       "  'agressivite': 0,\n",
       "  'avg_hashtag': 1,\n",
       "  'avg_retweet': 0,\n",
       "  'avg_url': 1,\n",
       "  'id': 1943,\n",
       "  'mediumLength': 134,\n",
       "  'rateOfRepliedTweets': 0,\n",
       "  'rationFollowersFriends': 17.92,\n",
       "  'suspect': -1,\n",
       "  'tweet_per_day': 1,\n",
       "  'verified': False,\n",
       "  'version': '2',\n",
       "  'visibility': 0.08214285714285714},\n",
       " {'accountAge(days)': 5447,\n",
       "  'agressivite': 2.3333333333333335,\n",
       "  'avg_hashtag': 1,\n",
       "  'avg_retweet': 0,\n",
       "  'avg_url': 0.5,\n",
       "  'id': 418,\n",
       "  'mediumLength': 113,\n",
       "  'rateOfRepliedTweets': 0,\n",
       "  'rationFollowersFriends': 35.316994777018884,\n",
       "  'suspect': -1,\n",
       "  'tweet_per_day': 2,\n",
       "  'verified': True,\n",
       "  'version': '2',\n",
       "  'visibility': 0.06857142857142857},\n",
       " {'accountAge(days)': 5438,\n",
       "  'agressivite': 0,\n",
       "  'avg_hashtag': 0,\n",
       "  'avg_retweet': 0,\n",
       "  'avg_url': 0,\n",
       "  'id': 730,\n",
       "  'mediumLength': 139,\n",
       "  'rateOfRepliedTweets': 0,\n",
       "  'rationFollowersFriends': 3.25130890052356,\n",
       "  'suspect': -1,\n",
       "  'tweet_per_day': 1,\n",
       "  'verified': False,\n",
       "  'version': '2',\n",
       "  'visibility': 0.04071428571428572},\n",
       " {'accountAge(days)': 5438,\n",
       "  'agressivite': 0,\n",
       "  'avg_hashtag': 3,\n",
       "  'avg_retweet': 0,\n",
       "  'avg_url': 0,\n",
       "  'id': 922,\n",
       "  'mediumLength': 140,\n",
       "  'rateOfRepliedTweets': 0,\n",
       "  'rationFollowersFriends': 4.709850107066381,\n",
       "  'suspect': -1,\n",
       "  'tweet_per_day': 1,\n",
       "  'verified': False,\n",
       "  'version': '2',\n",
       "  'visibility': 0.16499999999999998},\n",
       " {'accountAge(days)': 5436,\n",
       "  'agressivite': -0.2,\n",
       "  'avg_hashtag': 0.8,\n",
       "  'avg_retweet': 0,\n",
       "  'avg_url': 0.2,\n",
       "  'id': 1154,\n",
       "  'mediumLength': 102,\n",
       "  'rateOfRepliedTweets': 0,\n",
       "  'rationFollowersFriends': 29.179357021996616,\n",
       "  'suspect': -1,\n",
       "  'tweet_per_day': 5,\n",
       "  'verified': False,\n",
       "  'version': '2',\n",
       "  'visibility': 0.03314285714285714},\n",
       " {'accountAge(days)': 5423,\n",
       "  'agressivite': 0,\n",
       "  'avg_hashtag': 6,\n",
       "  'avg_retweet': 0,\n",
       "  'avg_url': 0,\n",
       "  'id': 3403,\n",
       "  'mediumLength': 124,\n",
       "  'rateOfRepliedTweets': 0,\n",
       "  'rationFollowersFriends': 2.040625,\n",
       "  'suspect': -1,\n",
       "  'tweet_per_day': 1,\n",
       "  'verified': False,\n",
       "  'version': '2',\n",
       "  'visibility': 0.24857142857142855},\n",
       " {'accountAge(days)': 5425,\n",
       "  'agressivite': 0.2,\n",
       "  'avg_hashtag': 2,\n",
       "  'avg_retweet': 0,\n",
       "  'avg_url': 0.2,\n",
       "  'id': 3231,\n",
       "  'mediumLength': 101,\n",
       "  'rateOfRepliedTweets': 0,\n",
       "  'rationFollowersFriends': 0.9451812555260831,\n",
       "  'suspect': -1,\n",
       "  'tweet_per_day': 2.5,\n",
       "  'verified': False,\n",
       "  'version': '2',\n",
       "  'visibility': 0.091},\n",
       " ...]>"
      ]
     },
     "execution_count": 6,
     "metadata": {},
     "output_type": "execute_result"
    }
   ],
   "source": [
    "users = rethinkDBservice.getUsersCursors()\n",
    "users"
   ]
  },
  {
   "cell_type": "code",
   "execution_count": null,
   "metadata": {},
   "outputs": [],
   "source": [
    "table = []\n",
    "etiquettes = []\n",
    "for user in users:\n",
    "    table.append([\n",
    "        user[\"accountAge(days)\"],\n",
    "        user[\"agressivite\"],\n",
    "        user[\"avg_hashtag\"],\n",
    "        user[\"avg_url\"],\n",
    "        user[\"mediumLength\"],\n",
    "        user[\"rationFollowersFriends\"],\n",
    "        user[\"tweet_per_day\"],\n",
    "        user[\"verified\"],\n",
    "        user[\"visibility\"]\n",
    "    ])\n",
    "    etiquettes.append(user[\"suspect\"])"
   ]
  },
  {
   "cell_type": "code",
   "execution_count": null,
   "metadata": {},
   "outputs": [],
   "source": [
    "matriceDonnees = np.array(table)"
   ]
  },
  {
   "cell_type": "code",
   "execution_count": null,
   "metadata": {},
   "outputs": [],
   "source": [
    "X_train, X_test, y_train, y_test = train_test_split(matriceDonnees, etiquettes, test_size=0.7, random_state=42)"
   ]
  },
  {
   "cell_type": "code",
   "execution_count": null,
   "metadata": {},
   "outputs": [],
   "source": [
    "from sklearn.model_selection import GridSearchCV\n",
    "from sklearn.svm import SVC\n",
    "from sklearn import metrics\n",
    "from sklearn.metrics import confusion_matrix"
   ]
  },
  {
   "cell_type": "markdown",
   "metadata": {},
   "source": [
    "parametres = {\"kernel\":[\"linear\", \"poly\", \"rbf\", \"sigmoid\"], \"C\":[0.01,0.1,1,10,100]}"
   ]
  },
  {
   "cell_type": "markdown",
   "metadata": {},
   "source": [
    "svm = SVC()<br>\n",
    "grille = GridSearchCV(estimator=svm, param_grid=parametres, scoring=\"accuracy\", cv=2)<br>\n",
    "resultats = grille.fit(X_train, y_train)<br>\n",
    "print(resultats.best_params_)"
   ]
  },
  {
   "cell_type": "code",
   "execution_count": null,
   "metadata": {},
   "outputs": [],
   "source": [
    "C = 0.01\n",
    "noyau = 'linear'\n",
    "svm = SVC(C,noyau)\n",
    "print(\"svm crÃ©Ã©\")"
   ]
  },
  {
   "cell_type": "code",
   "execution_count": null,
   "metadata": {},
   "outputs": [],
   "source": [
    "svm.fit(X_train, y_train)\n",
    "print(\"apprentissage fait\")"
   ]
  },
  {
   "cell_type": "code",
   "execution_count": null,
   "metadata": {},
   "outputs": [],
   "source": [
    "y_pred_test = svm.predict(X_test)\n",
    "print(\"prÃ©diction faite\")"
   ]
  },
  {
   "cell_type": "markdown",
   "metadata": {},
   "source": [
    "y_pred_test = grille.predict(X_test)"
   ]
  },
  {
   "cell_type": "code",
   "execution_count": null,
   "metadata": {},
   "outputs": [],
   "source": [
    "erreur_test = 1.0 - metrics.accuracy_score(y_test, y_pred_test)\n",
    "print(\"erreur test : \",erreur_test)"
   ]
  },
  {
   "cell_type": "code",
   "execution_count": null,
   "metadata": {},
   "outputs": [],
   "source": [
    "conf = confusion_matrix(y_test, y_pred_test)\n",
    "print(conf)"
   ]
  },
  {
   "cell_type": "code",
   "execution_count": null,
   "metadata": {},
   "outputs": [],
   "source": [
    "import matplotlib.pyplot as plt\n",
    "plt.figure(\"Confusion matrix\")"
   ]
  },
  {
   "cell_type": "code",
   "execution_count": null,
   "metadata": {},
   "outputs": [],
   "source": [
    "import seaborn as sns\n",
    "sns.heatmap(conf, square=True, annot=True, cbar=False, xticklabels=[\"non suspect\",\"suspect\"], yticklabels=[\"non suspect\",\"suspect\"], cmap =\"Blues\", fmt='d')\n",
    "plt.xlabel('valeurs prÃ©dites')\n",
    "plt.ylabel('valeurs rÃ©elles')\n",
    "plt.title(\"Matrice de confusion\")\n",
    "plt.show()"
   ]
  },
  {
   "cell_type": "markdown",
   "metadata": {},
   "source": [
    "ReprÃ©sentation dans le plan"
   ]
  },
  {
   "cell_type": "code",
   "execution_count": null,
   "metadata": {},
   "outputs": [],
   "source": [
    "from AcpTweet import CP2"
   ]
  },
  {
   "cell_type": "code",
   "execution_count": null,
   "metadata": {},
   "outputs": [],
   "source": [
    "X_train_ACP, X_test_ACP, y_train_ACP, y_test_ACP = train_test_split(CP2, etiquettes, test_size=10000, train_size=0.3, random_state=42)"
   ]
  },
  {
   "cell_type": "markdown",
   "metadata": {},
   "source": [
    "idx = np.random.randint(len(matriceDonnees), size=1000)<br>\n",
    "sample_etiquettes = np.array(etiquettes)[idx]<br>\n",
    "xline = CP2[idx,0]<br>\n",
    "yline = CP2[idx,1]"
   ]
  },
  {
   "cell_type": "markdown",
   "metadata": {},
   "source": [
    "Test de l'apprentissage sur un Ã©chantillon alÃ©atoire de 500 individus pour la reprÃ©sentation"
   ]
  },
  {
   "cell_type": "markdown",
   "metadata": {},
   "source": [
    "idx_test = np.random.randint(len(matriceDonnees), size=1000)<br>\n",
    "sample_etiquettes_test = np.array(etiquettes)[idx_test]<br>\n",
    "xline_test = CP2[idx_test,0]<br>\n",
    "yline_test = CP2[idx_test,1]"
   ]
  },
  {
   "cell_type": "code",
   "execution_count": null,
   "metadata": {},
   "outputs": [],
   "source": [
    "h=.02\n",
    "x_min, x_max = X_test_ACP[:,0].min()-1, X_test_ACP[:,0].max()+1\n",
    "y_min, y_max = X_test_ACP[:,1].min()-1, X_test_ACP[:,1].max()+1\n",
    "xx,yy = np.meshgrid(np.arange(x_min,x_max,h), np.arange(y_min,y_max,h))"
   ]
  },
  {
   "cell_type": "code",
   "execution_count": null,
   "metadata": {},
   "outputs": [],
   "source": [
    "svm.fit(X_train_ACP,y_train_ACP)\n",
    "print(\"apprentissage fait\")"
   ]
  },
  {
   "cell_type": "code",
   "execution_count": null,
   "metadata": {},
   "outputs": [],
   "source": [
    "Z_origin = svm.predict(np.c_[xx.ravel(), yy.ravel()])\n",
    "Z = Z_origin.reshape(xx.shape)"
   ]
  },
  {
   "cell_type": "code",
   "execution_count": null,
   "metadata": {},
   "outputs": [],
   "source": [
    "plt.figure(\"SVM SupervisÃ©\")\n",
    "plt.contourf(xx, yy, Z, cmap=plt.cm.coolwarm, alpha=0.8)"
   ]
  },
  {
   "cell_type": "code",
   "execution_count": null,
   "metadata": {},
   "outputs": [],
   "source": [
    "plt.scatter(X_test_ACP[:,0], X_test_ACP[:,1], label='train', edgecolors='k', c=y_test_ACP, cmap=plt.cm.coolwarm)\n",
    "# plt.scatter(composante_princ[:,0], composante_princ[:,1], label='train', edgecolors='k', c=etiquettes, cmap=plt.cm.coolwarm)\n",
    "plt.xlabel('x1')\n",
    "plt.ylabel('x2')\n",
    "plt.title(\"SVM linear\")"
   ]
  },
  {
   "cell_type": "code",
   "execution_count": null,
   "metadata": {},
   "outputs": [],
   "source": [
    "plt.show()"
   ]
  }
 ],
 "metadata": {
  "kernelspec": {
   "display_name": "Python 3",
   "language": "python",
   "name": "python3"
  },
  "language_info": {
   "codemirror_mode": {
    "name": "ipython",
    "version": 3
   },
   "file_extension": ".py",
   "mimetype": "text/x-python",
   "name": "python",
   "nbconvert_exporter": "python",
   "pygments_lexer": "ipython3",
   "version": "3.8.5"
  }
 },
 "nbformat": 4,
 "nbformat_minor": 2
}
